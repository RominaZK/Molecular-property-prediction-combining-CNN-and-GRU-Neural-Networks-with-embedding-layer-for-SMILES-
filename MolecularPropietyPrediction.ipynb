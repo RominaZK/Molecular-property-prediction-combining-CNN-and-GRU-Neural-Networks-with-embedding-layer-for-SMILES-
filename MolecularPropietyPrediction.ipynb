{
 "cells": [
  {
   "cell_type": "markdown",
   "id": "ea11ed0f-f6b8-4d26-bb8f-457740ae7c5b",
   "metadata": {},
   "source": [
    "# Molecular property prediction combining CNN and GRU Neural Networks with embedding layer for SMILES-Based Regression"
   ]
  },
  {
   "cell_type": "markdown",
   "id": "917b1d18-3224-4ec3-8d8e-69d3d38d1243",
   "metadata": {},
   "source": [
    "The entire work was recorded in a repositori in Github, https://github.com/CCT-Dublin/msc-da-integrated-ca1-sem2-RKeuchkerian/commits/main/"
   ]
  },
  {
   "cell_type": "markdown",
   "id": "2d4ca662-c957-4460-a8fa-5c6898e968d9",
   "metadata": {},
   "source": [
    "## Introduccion\n",
    "\n",
    "SMILES (Simplified Molecular Input Line Entry System) is a line notation that encodes molecular structures as text strings. In computational chemistry, deep learning models using SMILES are gaining traction for molecular property prediction. This notebook explores a hybrid neural network combining embeddings, convolutional layers (Conv1D), and recurrent layers (GRU), applied to predict polar area values.\n"
   ]
  },
  {
   "cell_type": "markdown",
   "id": "c7c51b87-b532-42bd-9124-179158ed7a1f",
   "metadata": {},
   "source": [
    "## Import packages"
   ]
  },
  {
   "cell_type": "code",
   "execution_count": 201,
   "id": "2d47a550-3618-40f1-9fca-5e16cae6cae8",
   "metadata": {},
   "outputs": [],
   "source": [
    "import gdown\n",
    "import pandas as pd\n",
    "import numpy as np\n",
    "import seaborn as sns\n",
    "import matplotlib.pyplot as plt\n",
    "import tensorflow as tf\n",
    "from tensorflow import keras\n",
    "from tensorflow.keras.layers import Embedding, Conv1D, LSTM, GRU, Dense, Dropout, GlobalMaxPooling1D\n",
    "from sklearn.model_selection import train_test_split\n",
    "from rdkit import Chem\n",
    "from rdkit.Chem import MolToSmiles"
   ]
  },
  {
   "cell_type": "markdown",
   "id": "1537d62d-0eb8-4111-9798-0169d5dff5a3",
   "metadata": {},
   "source": [
    "## Load dataset and EDA\n",
    "\n",
    "The dataset was downloaded from PubChem (Apodaca, R., 2022. Balsa: A Compact Line Notation Based on SMILES. https://doi.org/10.26434/chemrxiv-2022-01ltp)\n",
    "\n",
    "Visualización del histograma de polar area value\n",
    "\n",
    "Distribución de longitudes SMILES\n",
    "\n",
    "Null cleaning"
   ]
  },
  {
   "cell_type": "code",
   "execution_count": 248,
   "id": "8f6d8908-a117-4692-a712-a47fe1205934",
   "metadata": {},
   "outputs": [
    {
     "name": "stderr",
     "output_type": "stream",
     "text": [
      "C:\\Users\\romin\\AppData\\Local\\Temp\\ipykernel_15552\\3859884612.py:9: DtypeWarning: Columns (30,37) have mixed types. Specify dtype option on import or set low_memory=False.\n",
      "  df = pd.read_csv(output)\n"
     ]
    },
    {
     "data": {
      "text/html": [
       "<div>\n",
       "<style scoped>\n",
       "    .dataframe tbody tr th:only-of-type {\n",
       "        vertical-align: middle;\n",
       "    }\n",
       "\n",
       "    .dataframe tbody tr th {\n",
       "        vertical-align: top;\n",
       "    }\n",
       "\n",
       "    .dataframe thead th {\n",
       "        text-align: right;\n",
       "    }\n",
       "</style>\n",
       "<table border=\"1\" class=\"dataframe\">\n",
       "  <thead>\n",
       "    <tr style=\"text-align: right;\">\n",
       "      <th></th>\n",
       "      <th>cid</th>\n",
       "      <th>cmpdname</th>\n",
       "      <th>cmpdsynonym</th>\n",
       "      <th>mw</th>\n",
       "      <th>mf</th>\n",
       "      <th>polararea</th>\n",
       "      <th>complexity</th>\n",
       "      <th>xlogp</th>\n",
       "      <th>heavycnt</th>\n",
       "      <th>hbonddonor</th>\n",
       "      <th>...</th>\n",
       "      <th>gpidcnt</th>\n",
       "      <th>gpfamilycnt</th>\n",
       "      <th>meshheadings</th>\n",
       "      <th>annothits</th>\n",
       "      <th>annothitcnt</th>\n",
       "      <th>aids</th>\n",
       "      <th>cidcdate</th>\n",
       "      <th>sidsrcname</th>\n",
       "      <th>depcatg</th>\n",
       "      <th>annotation</th>\n",
       "    </tr>\n",
       "  </thead>\n",
       "  <tbody>\n",
       "    <tr>\n",
       "      <th>0</th>\n",
       "      <td>89594</td>\n",
       "      <td>Nicotine</td>\n",
       "      <td>nicotine|L-Nicotine|54-11-5|(-)-Nicotine|(S)-N...</td>\n",
       "      <td>162.23</td>\n",
       "      <td>C10H14N2</td>\n",
       "      <td>16.1</td>\n",
       "      <td>147.0</td>\n",
       "      <td>1.2</td>\n",
       "      <td>12</td>\n",
       "      <td>0</td>\n",
       "      <td>...</td>\n",
       "      <td>123782</td>\n",
       "      <td>37630</td>\n",
       "      <td>Nicotine</td>\n",
       "      <td>Agrochemical Information|Biological Test Resul...</td>\n",
       "      <td>20</td>\n",
       "      <td>421|426|427|433|434|435|445|530|540|541|542|54...</td>\n",
       "      <td>20040916</td>\n",
       "      <td>001Chemical|10X CHEM|1st Scientific|3B Scienti...</td>\n",
       "      <td>Chemical Vendors|Curation Efforts|Governmental...</td>\n",
       "      <td>N - Nervous system &gt; N07 - Other nervous syste...</td>\n",
       "    </tr>\n",
       "    <tr>\n",
       "      <th>1</th>\n",
       "      <td>40326</td>\n",
       "      <td>Permethrin</td>\n",
       "      <td>Permethrin|52645-53-1|Pounce|Permethrine|Perme...</td>\n",
       "      <td>391.30</td>\n",
       "      <td>C21H20Cl2O3</td>\n",
       "      <td>35.5</td>\n",
       "      <td>521.0</td>\n",
       "      <td>6.5</td>\n",
       "      <td>26</td>\n",
       "      <td>0</td>\n",
       "      <td>...</td>\n",
       "      <td>66189</td>\n",
       "      <td>19536</td>\n",
       "      <td>Permethrin</td>\n",
       "      <td>Agrochemical Information|Biological Test Resul...</td>\n",
       "      <td>19</td>\n",
       "      <td>880|881|894|1030|1188|1379|1452|1457|1460|1463...</td>\n",
       "      <td>20050327</td>\n",
       "      <td>10X CHEM|3B Scientific (Wuhan) Corp|3WAY PHARM...</td>\n",
       "      <td>Chemical Vendors|Curation Efforts|Governmental...</td>\n",
       "      <td>D004791 - Enzyme Inhibitors|D010575 - Pesticid...</td>\n",
       "    </tr>\n",
       "    <tr>\n",
       "      <th>2</th>\n",
       "      <td>14982</td>\n",
       "      <td>Glycyrrhizin</td>\n",
       "      <td>Glycyrrhizic acid|glycyrrhizin|1405-86-3|Glycy...</td>\n",
       "      <td>822.90</td>\n",
       "      <td>C42H62O16</td>\n",
       "      <td>267.0</td>\n",
       "      <td>1730.0</td>\n",
       "      <td>3.7</td>\n",
       "      <td>58</td>\n",
       "      <td>8</td>\n",
       "      <td>...</td>\n",
       "      <td>53880</td>\n",
       "      <td>29325</td>\n",
       "      <td>Glycyrrhizic Acid</td>\n",
       "      <td>Biological Test Results|Interactions and Pathw...</td>\n",
       "      <td>19</td>\n",
       "      <td>2517|86199|86201|265377|287075|288766|297145|2...</td>\n",
       "      <td>20040916</td>\n",
       "      <td>001Chemical|10X CHEM|3WAY PHARM INC|A2B Chem|A...</td>\n",
       "      <td>Chemical Vendors|Curation Efforts|Governmental...</td>\n",
       "      <td>A - Alimentary tract and metabolism &gt; A05 - Bi...</td>\n",
       "    </tr>\n",
       "    <tr>\n",
       "      <th>3</th>\n",
       "      <td>2519</td>\n",
       "      <td>Caffeine</td>\n",
       "      <td>caffeine|58-08-2|Guaranine|1,3,7-Trimethylxant...</td>\n",
       "      <td>194.19</td>\n",
       "      <td>C8H10N4O2</td>\n",
       "      <td>58.4</td>\n",
       "      <td>293.0</td>\n",
       "      <td>-0.1</td>\n",
       "      <td>14</td>\n",
       "      <td>0</td>\n",
       "      <td>...</td>\n",
       "      <td>138189</td>\n",
       "      <td>44732</td>\n",
       "      <td>Caffeine</td>\n",
       "      <td>Agrochemical Information|Biological Test Resul...</td>\n",
       "      <td>19</td>\n",
       "      <td>155|157|161|165|167|175|192|248|256|316|328|35...</td>\n",
       "      <td>20040916</td>\n",
       "      <td>001Chemical|10X CHEM|3B Scientific (Wuhan) Cor...</td>\n",
       "      <td>Chemical Vendors|Curation Efforts|Governmental...</td>\n",
       "      <td>C78272 - Agent Affecting Nervous System &gt; C477...</td>\n",
       "    </tr>\n",
       "    <tr>\n",
       "      <th>4</th>\n",
       "      <td>338</td>\n",
       "      <td>Salicylic Acid</td>\n",
       "      <td>salicylic acid|2-Hydroxybenzoic acid|69-72-7|o...</td>\n",
       "      <td>138.12</td>\n",
       "      <td>C7H6O3</td>\n",
       "      <td>57.5</td>\n",
       "      <td>133.0</td>\n",
       "      <td>2.3</td>\n",
       "      <td>10</td>\n",
       "      <td>2</td>\n",
       "      <td>...</td>\n",
       "      <td>455233</td>\n",
       "      <td>155668</td>\n",
       "      <td>Salicylic Acid</td>\n",
       "      <td>Biological Test Results|Interactions and Pathw...</td>\n",
       "      <td>19</td>\n",
       "      <td>155|157|161|165|167|175|179|248|485|568|583|59...</td>\n",
       "      <td>20040916</td>\n",
       "      <td>001Chemical|10X CHEM|1st Scientific|3B Scienti...</td>\n",
       "      <td>Chemical Vendors|Curation Efforts|Governmental...</td>\n",
       "      <td>C254 - Anti-Infective Agent &gt; C52588 - Antibac...</td>\n",
       "    </tr>\n",
       "  </tbody>\n",
       "</table>\n",
       "<p>5 rows × 38 columns</p>\n",
       "</div>"
      ],
      "text/plain": [
       "     cid        cmpdname                                        cmpdsynonym  \\\n",
       "0  89594        Nicotine  nicotine|L-Nicotine|54-11-5|(-)-Nicotine|(S)-N...   \n",
       "1  40326      Permethrin  Permethrin|52645-53-1|Pounce|Permethrine|Perme...   \n",
       "2  14982    Glycyrrhizin  Glycyrrhizic acid|glycyrrhizin|1405-86-3|Glycy...   \n",
       "3   2519        Caffeine  caffeine|58-08-2|Guaranine|1,3,7-Trimethylxant...   \n",
       "4    338  Salicylic Acid  salicylic acid|2-Hydroxybenzoic acid|69-72-7|o...   \n",
       "\n",
       "       mw           mf  polararea  complexity  xlogp  heavycnt  hbonddonor  \\\n",
       "0  162.23     C10H14N2       16.1       147.0    1.2        12           0   \n",
       "1  391.30  C21H20Cl2O3       35.5       521.0    6.5        26           0   \n",
       "2  822.90    C42H62O16      267.0      1730.0    3.7        58           8   \n",
       "3  194.19    C8H10N4O2       58.4       293.0   -0.1        14           0   \n",
       "4  138.12       C7H6O3       57.5       133.0    2.3        10           2   \n",
       "\n",
       "   ...  gpidcnt  gpfamilycnt       meshheadings  \\\n",
       "0  ...   123782        37630           Nicotine   \n",
       "1  ...    66189        19536         Permethrin   \n",
       "2  ...    53880        29325  Glycyrrhizic Acid   \n",
       "3  ...   138189        44732           Caffeine   \n",
       "4  ...   455233       155668     Salicylic Acid   \n",
       "\n",
       "                                           annothits annothitcnt  \\\n",
       "0  Agrochemical Information|Biological Test Resul...          20   \n",
       "1  Agrochemical Information|Biological Test Resul...          19   \n",
       "2  Biological Test Results|Interactions and Pathw...          19   \n",
       "3  Agrochemical Information|Biological Test Resul...          19   \n",
       "4  Biological Test Results|Interactions and Pathw...          19   \n",
       "\n",
       "                                                aids  cidcdate  \\\n",
       "0  421|426|427|433|434|435|445|530|540|541|542|54...  20040916   \n",
       "1  880|881|894|1030|1188|1379|1452|1457|1460|1463...  20050327   \n",
       "2  2517|86199|86201|265377|287075|288766|297145|2...  20040916   \n",
       "3  155|157|161|165|167|175|192|248|256|316|328|35...  20040916   \n",
       "4  155|157|161|165|167|175|179|248|485|568|583|59...  20040916   \n",
       "\n",
       "                                          sidsrcname  \\\n",
       "0  001Chemical|10X CHEM|1st Scientific|3B Scienti...   \n",
       "1  10X CHEM|3B Scientific (Wuhan) Corp|3WAY PHARM...   \n",
       "2  001Chemical|10X CHEM|3WAY PHARM INC|A2B Chem|A...   \n",
       "3  001Chemical|10X CHEM|3B Scientific (Wuhan) Cor...   \n",
       "4  001Chemical|10X CHEM|1st Scientific|3B Scienti...   \n",
       "\n",
       "                                             depcatg  \\\n",
       "0  Chemical Vendors|Curation Efforts|Governmental...   \n",
       "1  Chemical Vendors|Curation Efforts|Governmental...   \n",
       "2  Chemical Vendors|Curation Efforts|Governmental...   \n",
       "3  Chemical Vendors|Curation Efforts|Governmental...   \n",
       "4  Chemical Vendors|Curation Efforts|Governmental...   \n",
       "\n",
       "                                          annotation  \n",
       "0  N - Nervous system > N07 - Other nervous syste...  \n",
       "1  D004791 - Enzyme Inhibitors|D010575 - Pesticid...  \n",
       "2  A - Alimentary tract and metabolism > A05 - Bi...  \n",
       "3  C78272 - Agent Affecting Nervous System > C477...  \n",
       "4  C254 - Anti-Infective Agent > C52588 - Antibac...  \n",
       "\n",
       "[5 rows x 38 columns]"
      ]
     },
     "execution_count": 248,
     "metadata": {},
     "output_type": "execute_result"
    }
   ],
   "source": [
    "file_id = \"1j6ZyeG5lN2cya1IuSCrP7hcIB7USpsX9\"\n",
    "url = f\"https://drive.google.com/uc?id={file_id}\"\n",
    "\n",
    "# Descargar archivo\n",
    "output = \"dataset.csv\"\n",
    "#gdown.download(url, output, quiet=False)\n",
    "\n",
    "# Leer el archivo en pandas\n",
    "df = pd.read_csv(output)\n",
    "df.head()"
   ]
  },
  {
   "cell_type": "code",
   "execution_count": 212,
   "id": "b0c2396d-0fa1-436e-8c73-1851994c6f9a",
   "metadata": {},
   "outputs": [
    {
     "data": {
      "text/html": [
       "<div>\n",
       "<style scoped>\n",
       "    .dataframe tbody tr th:only-of-type {\n",
       "        vertical-align: middle;\n",
       "    }\n",
       "\n",
       "    .dataframe tbody tr th {\n",
       "        vertical-align: top;\n",
       "    }\n",
       "\n",
       "    .dataframe thead th {\n",
       "        text-align: right;\n",
       "    }\n",
       "</style>\n",
       "<table border=\"1\" class=\"dataframe\">\n",
       "  <thead>\n",
       "    <tr style=\"text-align: right;\">\n",
       "      <th></th>\n",
       "      <th>cid</th>\n",
       "      <th>mw</th>\n",
       "      <th>polararea</th>\n",
       "      <th>complexity</th>\n",
       "      <th>xlogp</th>\n",
       "      <th>heavycnt</th>\n",
       "      <th>hbonddonor</th>\n",
       "      <th>hbondacc</th>\n",
       "      <th>rotbonds</th>\n",
       "      <th>exactmass</th>\n",
       "      <th>...</th>\n",
       "      <th>definedatomstereocnt</th>\n",
       "      <th>undefinedatomstereocnt</th>\n",
       "      <th>totalbondstereocnt</th>\n",
       "      <th>definedbondstereocnt</th>\n",
       "      <th>undefinedbondstereocnt</th>\n",
       "      <th>pclidcnt</th>\n",
       "      <th>gpidcnt</th>\n",
       "      <th>gpfamilycnt</th>\n",
       "      <th>annothitcnt</th>\n",
       "      <th>cidcdate</th>\n",
       "    </tr>\n",
       "  </thead>\n",
       "  <tbody>\n",
       "    <tr>\n",
       "      <th>count</th>\n",
       "      <td>1.519660e+05</td>\n",
       "      <td>151966.000000</td>\n",
       "      <td>151966.000000</td>\n",
       "      <td>151966.000000</td>\n",
       "      <td>145653.000000</td>\n",
       "      <td>151966.000000</td>\n",
       "      <td>151966.000000</td>\n",
       "      <td>151966.000000</td>\n",
       "      <td>151966.000000</td>\n",
       "      <td>151966.000000</td>\n",
       "      <td>...</td>\n",
       "      <td>151966.000000</td>\n",
       "      <td>151966.000000</td>\n",
       "      <td>151966.000000</td>\n",
       "      <td>151966.000000</td>\n",
       "      <td>151966.000000</td>\n",
       "      <td>151966.000000</td>\n",
       "      <td>151966.000000</td>\n",
       "      <td>151966.000000</td>\n",
       "      <td>151966.000000</td>\n",
       "      <td>1.519660e+05</td>\n",
       "    </tr>\n",
       "    <tr>\n",
       "      <th>mean</th>\n",
       "      <td>1.270347e+08</td>\n",
       "      <td>489.290209</td>\n",
       "      <td>111.024263</td>\n",
       "      <td>779.884071</td>\n",
       "      <td>3.242967</td>\n",
       "      <td>34.592429</td>\n",
       "      <td>2.127910</td>\n",
       "      <td>7.450890</td>\n",
       "      <td>6.554209</td>\n",
       "      <td>488.808294</td>\n",
       "      <td>...</td>\n",
       "      <td>0.971665</td>\n",
       "      <td>0.486938</td>\n",
       "      <td>0.064995</td>\n",
       "      <td>0.063883</td>\n",
       "      <td>0.001112</td>\n",
       "      <td>30.340392</td>\n",
       "      <td>181.043477</td>\n",
       "      <td>57.065982</td>\n",
       "      <td>4.026769</td>\n",
       "      <td>2.018060e+07</td>\n",
       "    </tr>\n",
       "    <tr>\n",
       "      <th>std</th>\n",
       "      <td>4.358054e+07</td>\n",
       "      <td>189.191700</td>\n",
       "      <td>58.912667</td>\n",
       "      <td>411.605047</td>\n",
       "      <td>1.864625</td>\n",
       "      <td>13.077992</td>\n",
       "      <td>1.872734</td>\n",
       "      <td>3.409217</td>\n",
       "      <td>4.357122</td>\n",
       "      <td>189.038812</td>\n",
       "      <td>...</td>\n",
       "      <td>2.119759</td>\n",
       "      <td>1.371000</td>\n",
       "      <td>0.296450</td>\n",
       "      <td>0.292818</td>\n",
       "      <td>0.043896</td>\n",
       "      <td>1395.619164</td>\n",
       "      <td>4230.621498</td>\n",
       "      <td>1704.444532</td>\n",
       "      <td>1.585653</td>\n",
       "      <td>4.583029e+04</td>\n",
       "    </tr>\n",
       "    <tr>\n",
       "      <th>min</th>\n",
       "      <td>1.420000e+02</td>\n",
       "      <td>16.030000</td>\n",
       "      <td>0.000000</td>\n",
       "      <td>0.000000</td>\n",
       "      <td>-32.700000</td>\n",
       "      <td>1.000000</td>\n",
       "      <td>0.000000</td>\n",
       "      <td>0.000000</td>\n",
       "      <td>0.000000</td>\n",
       "      <td>16.029200</td>\n",
       "      <td>...</td>\n",
       "      <td>0.000000</td>\n",
       "      <td>0.000000</td>\n",
       "      <td>0.000000</td>\n",
       "      <td>0.000000</td>\n",
       "      <td>0.000000</td>\n",
       "      <td>0.000000</td>\n",
       "      <td>0.000000</td>\n",
       "      <td>0.000000</td>\n",
       "      <td>0.000000</td>\n",
       "      <td>2.004092e+07</td>\n",
       "    </tr>\n",
       "    <tr>\n",
       "      <th>25%</th>\n",
       "      <td>1.183480e+08</td>\n",
       "      <td>396.500000</td>\n",
       "      <td>80.300000</td>\n",
       "      <td>572.000000</td>\n",
       "      <td>2.100000</td>\n",
       "      <td>28.000000</td>\n",
       "      <td>1.000000</td>\n",
       "      <td>5.000000</td>\n",
       "      <td>4.000000</td>\n",
       "      <td>396.161250</td>\n",
       "      <td>...</td>\n",
       "      <td>0.000000</td>\n",
       "      <td>0.000000</td>\n",
       "      <td>0.000000</td>\n",
       "      <td>0.000000</td>\n",
       "      <td>0.000000</td>\n",
       "      <td>0.000000</td>\n",
       "      <td>1.000000</td>\n",
       "      <td>1.000000</td>\n",
       "      <td>3.000000</td>\n",
       "      <td>2.016022e+07</td>\n",
       "    </tr>\n",
       "    <tr>\n",
       "      <th>50%</th>\n",
       "      <td>1.385230e+08</td>\n",
       "      <td>461.900000</td>\n",
       "      <td>103.000000</td>\n",
       "      <td>720.000000</td>\n",
       "      <td>3.200000</td>\n",
       "      <td>33.000000</td>\n",
       "      <td>2.000000</td>\n",
       "      <td>7.000000</td>\n",
       "      <td>6.000000</td>\n",
       "      <td>461.222500</td>\n",
       "      <td>...</td>\n",
       "      <td>0.000000</td>\n",
       "      <td>0.000000</td>\n",
       "      <td>0.000000</td>\n",
       "      <td>0.000000</td>\n",
       "      <td>0.000000</td>\n",
       "      <td>0.000000</td>\n",
       "      <td>4.000000</td>\n",
       "      <td>1.000000</td>\n",
       "      <td>4.000000</td>\n",
       "      <td>2.019072e+07</td>\n",
       "    </tr>\n",
       "    <tr>\n",
       "      <th>75%</th>\n",
       "      <td>1.569076e+08</td>\n",
       "      <td>533.000000</td>\n",
       "      <td>127.000000</td>\n",
       "      <td>886.000000</td>\n",
       "      <td>4.300000</td>\n",
       "      <td>38.000000</td>\n",
       "      <td>3.000000</td>\n",
       "      <td>9.000000</td>\n",
       "      <td>8.000000</td>\n",
       "      <td>532.302000</td>\n",
       "      <td>...</td>\n",
       "      <td>1.000000</td>\n",
       "      <td>1.000000</td>\n",
       "      <td>0.000000</td>\n",
       "      <td>0.000000</td>\n",
       "      <td>0.000000</td>\n",
       "      <td>0.000000</td>\n",
       "      <td>10.000000</td>\n",
       "      <td>1.000000</td>\n",
       "      <td>5.000000</td>\n",
       "      <td>2.021111e+07</td>\n",
       "    </tr>\n",
       "    <tr>\n",
       "      <th>max</th>\n",
       "      <td>1.728665e+08</td>\n",
       "      <td>9010.220000</td>\n",
       "      <td>2700.000000</td>\n",
       "      <td>19800.000000</td>\n",
       "      <td>61.100000</td>\n",
       "      <td>441.000000</td>\n",
       "      <td>76.000000</td>\n",
       "      <td>153.000000</td>\n",
       "      <td>179.000000</td>\n",
       "      <td>9010.220000</td>\n",
       "      <td>...</td>\n",
       "      <td>51.000000</td>\n",
       "      <td>68.000000</td>\n",
       "      <td>11.000000</td>\n",
       "      <td>11.000000</td>\n",
       "      <td>6.000000</td>\n",
       "      <td>238118.000000</td>\n",
       "      <td>733442.000000</td>\n",
       "      <td>375561.000000</td>\n",
       "      <td>20.000000</td>\n",
       "      <td>2.025031e+07</td>\n",
       "    </tr>\n",
       "  </tbody>\n",
       "</table>\n",
       "<p>8 rows × 25 columns</p>\n",
       "</div>"
      ],
      "text/plain": [
       "                cid             mw      polararea     complexity  \\\n",
       "count  1.519660e+05  151966.000000  151966.000000  151966.000000   \n",
       "mean   1.270347e+08     489.290209     111.024263     779.884071   \n",
       "std    4.358054e+07     189.191700      58.912667     411.605047   \n",
       "min    1.420000e+02      16.030000       0.000000       0.000000   \n",
       "25%    1.183480e+08     396.500000      80.300000     572.000000   \n",
       "50%    1.385230e+08     461.900000     103.000000     720.000000   \n",
       "75%    1.569076e+08     533.000000     127.000000     886.000000   \n",
       "max    1.728665e+08    9010.220000    2700.000000   19800.000000   \n",
       "\n",
       "               xlogp       heavycnt     hbonddonor       hbondacc  \\\n",
       "count  145653.000000  151966.000000  151966.000000  151966.000000   \n",
       "mean        3.242967      34.592429       2.127910       7.450890   \n",
       "std         1.864625      13.077992       1.872734       3.409217   \n",
       "min       -32.700000       1.000000       0.000000       0.000000   \n",
       "25%         2.100000      28.000000       1.000000       5.000000   \n",
       "50%         3.200000      33.000000       2.000000       7.000000   \n",
       "75%         4.300000      38.000000       3.000000       9.000000   \n",
       "max        61.100000     441.000000      76.000000     153.000000   \n",
       "\n",
       "            rotbonds      exactmass  ...  definedatomstereocnt  \\\n",
       "count  151966.000000  151966.000000  ...         151966.000000   \n",
       "mean        6.554209     488.808294  ...              0.971665   \n",
       "std         4.357122     189.038812  ...              2.119759   \n",
       "min         0.000000      16.029200  ...              0.000000   \n",
       "25%         4.000000     396.161250  ...              0.000000   \n",
       "50%         6.000000     461.222500  ...              0.000000   \n",
       "75%         8.000000     532.302000  ...              1.000000   \n",
       "max       179.000000    9010.220000  ...             51.000000   \n",
       "\n",
       "       undefinedatomstereocnt  totalbondstereocnt  definedbondstereocnt  \\\n",
       "count           151966.000000       151966.000000         151966.000000   \n",
       "mean                 0.486938            0.064995              0.063883   \n",
       "std                  1.371000            0.296450              0.292818   \n",
       "min                  0.000000            0.000000              0.000000   \n",
       "25%                  0.000000            0.000000              0.000000   \n",
       "50%                  0.000000            0.000000              0.000000   \n",
       "75%                  1.000000            0.000000              0.000000   \n",
       "max                 68.000000           11.000000             11.000000   \n",
       "\n",
       "       undefinedbondstereocnt       pclidcnt        gpidcnt    gpfamilycnt  \\\n",
       "count           151966.000000  151966.000000  151966.000000  151966.000000   \n",
       "mean                 0.001112      30.340392     181.043477      57.065982   \n",
       "std                  0.043896    1395.619164    4230.621498    1704.444532   \n",
       "min                  0.000000       0.000000       0.000000       0.000000   \n",
       "25%                  0.000000       0.000000       1.000000       1.000000   \n",
       "50%                  0.000000       0.000000       4.000000       1.000000   \n",
       "75%                  0.000000       0.000000      10.000000       1.000000   \n",
       "max                  6.000000  238118.000000  733442.000000  375561.000000   \n",
       "\n",
       "         annothitcnt      cidcdate  \n",
       "count  151966.000000  1.519660e+05  \n",
       "mean        4.026769  2.018060e+07  \n",
       "std         1.585653  4.583029e+04  \n",
       "min         0.000000  2.004092e+07  \n",
       "25%         3.000000  2.016022e+07  \n",
       "50%         4.000000  2.019072e+07  \n",
       "75%         5.000000  2.021111e+07  \n",
       "max        20.000000  2.025031e+07  \n",
       "\n",
       "[8 rows x 25 columns]"
      ]
     },
     "execution_count": 212,
     "metadata": {},
     "output_type": "execute_result"
    }
   ],
   "source": [
    "df.describe()"
   ]
  },
  {
   "cell_type": "markdown",
   "id": "ff886b3b-e633-4ef8-9e94-2cabc7437040",
   "metadata": {},
   "source": [
    "Considerations:\n",
    "The SMILES representation is entirely dependent on the order of atoms and bonds. Two different representations can refer to the same molecule, but a model can interpret them as distinct structures."
   ]
  },
  {
   "cell_type": "code",
   "execution_count": 252,
   "id": "63bcac03-b96e-4198-b2de-aab6ffcc5589",
   "metadata": {},
   "outputs": [
    {
     "data": {
      "text/html": [
       "<div>\n",
       "<style scoped>\n",
       "    .dataframe tbody tr th:only-of-type {\n",
       "        vertical-align: middle;\n",
       "    }\n",
       "\n",
       "    .dataframe tbody tr th {\n",
       "        vertical-align: top;\n",
       "    }\n",
       "\n",
       "    .dataframe thead th {\n",
       "        text-align: right;\n",
       "    }\n",
       "</style>\n",
       "<table border=\"1\" class=\"dataframe\">\n",
       "  <thead>\n",
       "    <tr style=\"text-align: right;\">\n",
       "      <th></th>\n",
       "      <th>smiles</th>\n",
       "      <th>polararea</th>\n",
       "    </tr>\n",
       "  </thead>\n",
       "  <tbody>\n",
       "    <tr>\n",
       "      <th>0</th>\n",
       "      <td>CN1CCC[C@H]1C2=CN=CC=C2</td>\n",
       "      <td>16.1</td>\n",
       "    </tr>\n",
       "    <tr>\n",
       "      <th>1</th>\n",
       "      <td>CC1(C(C1C(=O)OCC2=CC(=CC=C2)OC3=CC=CC=C3)C=C(C...</td>\n",
       "      <td>35.5</td>\n",
       "    </tr>\n",
       "    <tr>\n",
       "      <th>2</th>\n",
       "      <td>C[C@]12CC[C@](C[C@H]1C3=CC(=O)[C@@H]4[C@]5(CC[...</td>\n",
       "      <td>267.0</td>\n",
       "    </tr>\n",
       "    <tr>\n",
       "      <th>3</th>\n",
       "      <td>CN1C=NC2=C1C(=O)N(C(=O)N2C)C</td>\n",
       "      <td>58.4</td>\n",
       "    </tr>\n",
       "    <tr>\n",
       "      <th>4</th>\n",
       "      <td>C1=CC=C(C(=C1)C(=O)O)O</td>\n",
       "      <td>57.5</td>\n",
       "    </tr>\n",
       "  </tbody>\n",
       "</table>\n",
       "</div>"
      ],
      "text/plain": [
       "                                              smiles  polararea\n",
       "0                            CN1CCC[C@H]1C2=CN=CC=C2       16.1\n",
       "1  CC1(C(C1C(=O)OCC2=CC(=CC=C2)OC3=CC=CC=C3)C=C(C...       35.5\n",
       "2  C[C@]12CC[C@](C[C@H]1C3=CC(=O)[C@@H]4[C@]5(CC[...      267.0\n",
       "3                       CN1C=NC2=C1C(=O)N(C(=O)N2C)C       58.4\n",
       "4                             C1=CC=C(C(=C1)C(=O)O)O       57.5"
      ]
     },
     "execution_count": 252,
     "metadata": {},
     "output_type": "execute_result"
    }
   ],
   "source": [
    "df_polararea = df[[\"smiles\", \"polararea\"]].dropna()  # Keep only SMILES & polar area columns\n",
    "df_polararea.head()"
   ]
  },
  {
   "cell_type": "code",
   "execution_count": 50,
   "id": "847d4bca-00b3-4717-bc09-32e6be99b051",
   "metadata": {},
   "outputs": [
    {
     "name": "stdout",
     "output_type": "stream",
     "text": [
      "smiles       0\n",
      "polararea    0\n",
      "dtype: int64\n"
     ]
    }
   ],
   "source": [
    "print(df_polararea.isnull().sum())"
   ]
  },
  {
   "cell_type": "code",
   "execution_count": 51,
   "id": "0aafade2-623e-422f-9b32-fac2131c228a",
   "metadata": {},
   "outputs": [
    {
     "data": {
      "text/plain": [
       "(151966, 2)"
      ]
     },
     "execution_count": 51,
     "metadata": {},
     "output_type": "execute_result"
    }
   ],
   "source": [
    "df_polararea.shape"
   ]
  },
  {
   "cell_type": "code",
   "execution_count": 214,
   "id": "857e9e0c-0ab9-436d-9e67-92cfdaa5f7f5",
   "metadata": {},
   "outputs": [
    {
     "data": {
      "text/html": [
       "<div>\n",
       "<style scoped>\n",
       "    .dataframe tbody tr th:only-of-type {\n",
       "        vertical-align: middle;\n",
       "    }\n",
       "\n",
       "    .dataframe tbody tr th {\n",
       "        vertical-align: top;\n",
       "    }\n",
       "\n",
       "    .dataframe thead th {\n",
       "        text-align: right;\n",
       "    }\n",
       "</style>\n",
       "<table border=\"1\" class=\"dataframe\">\n",
       "  <thead>\n",
       "    <tr style=\"text-align: right;\">\n",
       "      <th></th>\n",
       "      <th>polararea</th>\n",
       "    </tr>\n",
       "  </thead>\n",
       "  <tbody>\n",
       "    <tr>\n",
       "      <th>count</th>\n",
       "      <td>151966.000000</td>\n",
       "    </tr>\n",
       "    <tr>\n",
       "      <th>mean</th>\n",
       "      <td>111.024263</td>\n",
       "    </tr>\n",
       "    <tr>\n",
       "      <th>std</th>\n",
       "      <td>58.912667</td>\n",
       "    </tr>\n",
       "    <tr>\n",
       "      <th>min</th>\n",
       "      <td>0.000000</td>\n",
       "    </tr>\n",
       "    <tr>\n",
       "      <th>25%</th>\n",
       "      <td>80.300000</td>\n",
       "    </tr>\n",
       "    <tr>\n",
       "      <th>50%</th>\n",
       "      <td>103.000000</td>\n",
       "    </tr>\n",
       "    <tr>\n",
       "      <th>75%</th>\n",
       "      <td>127.000000</td>\n",
       "    </tr>\n",
       "    <tr>\n",
       "      <th>max</th>\n",
       "      <td>2700.000000</td>\n",
       "    </tr>\n",
       "  </tbody>\n",
       "</table>\n",
       "</div>"
      ],
      "text/plain": [
       "           polararea\n",
       "count  151966.000000\n",
       "mean      111.024263\n",
       "std        58.912667\n",
       "min         0.000000\n",
       "25%        80.300000\n",
       "50%       103.000000\n",
       "75%       127.000000\n",
       "max      2700.000000"
      ]
     },
     "execution_count": 214,
     "metadata": {},
     "output_type": "execute_result"
    }
   ],
   "source": [
    "df_polararea.describe()"
   ]
  },
  {
   "cell_type": "code",
   "execution_count": 52,
   "id": "bfdd9c3d-6ba4-491c-8631-24503bad655c",
   "metadata": {},
   "outputs": [
    {
     "data": {
      "text/plain": [
       "<seaborn.axisgrid.PairGrid at 0x23e0ccc7530>"
      ]
     },
     "execution_count": 52,
     "metadata": {},
     "output_type": "execute_result"
    },
    {
     "data": {
      "image/png": "[encoded data removed]",
      "text/plain": [
       "<Figure size 250x250 with 2 Axes>"
      ]
     },
     "metadata": {},
     "output_type": "display_data"
    }
   ],
   "source": [
    "sns.pairplot(df_polararea)"
   ]
  },
  {
   "cell_type": "markdown",
   "id": "cc721775-3f98-425f-9801-09a87b7daa14",
   "metadata": {},
   "source": [
    "## Deep Learning model"
   ]
  },
  {
   "cell_type": "markdown",
   "id": "61b1b7c0-af10-4969-98c3-e06d0a2323f9",
   "metadata": {},
   "source": [
    "## Data preparation\n",
    "\n",
    "RDkit used as a tool for validation, cleaning, and transformation of SMILES data\n",
    "\n",
    "SMILES strings are tokenized into character-level sequences, padded to a fixed length, and reshaped for model compatibility. \n",
    "\n",
    "Polar area values are normalized using MinMax scaling and reshape to be used in GRU.\n"
   ]
  },
  {
   "cell_type": "markdown",
   "id": "126477f5-ee58-4805-a5e0-cbbe9080d1d3",
   "metadata": {},
   "source": [
    "### Data Cleaning and validation."
   ]
  },
  {
   "cell_type": "code",
   "execution_count": 218,
   "id": "65d28123-c243-40a7-a4e3-67c91c1b8980",
   "metadata": {},
   "outputs": [
    {
     "name": "stderr",
     "output_type": "stream",
     "text": [
      "[19:57:39] WARNING: not removing hydrogen atom without neighbors\n",
      "[19:57:39] WARNING: not removing hydrogen atom without neighbors\n",
      "[19:57:39] WARNING: not removing hydrogen atom without neighbors\n",
      "[19:57:39] WARNING: not removing hydrogen atom without neighbors\n",
      "[19:57:39] WARNING: not removing hydrogen atom without neighbors\n",
      "[19:57:39] WARNING: not removing hydrogen atom without neighbors\n",
      "[19:57:39] WARNING: not removing hydrogen atom without neighbors\n",
      "[19:57:40] WARNING: not removing hydrogen atom without neighbors\n",
      "[19:57:40] WARNING: not removing hydrogen atom without neighbors\n",
      "[19:57:41] WARNING: not removing hydrogen atom without neighbors\n",
      "[19:57:41] WARNING: not removing hydrogen atom without neighbors\n",
      "[19:57:41] WARNING: not removing hydrogen atom without neighbors\n",
      "[19:57:41] WARNING: not removing hydrogen atom without neighbors\n",
      "[19:57:41] WARNING: not removing hydrogen atom without neighbors\n",
      "[19:57:41] WARNING: not removing hydrogen atom without neighbors\n",
      "[19:57:43] WARNING: not removing hydrogen atom without neighbors\n",
      "[19:57:43] WARNING: not removing hydrogen atom without neighbors\n",
      "[19:57:44] WARNING: not removing hydrogen atom without neighbors\n",
      "[19:57:44] WARNING: not removing hydrogen atom without neighbors\n",
      "[19:57:44] WARNING: not removing hydrogen atom without neighbors\n",
      "[19:57:44] WARNING: not removing hydrogen atom without neighbors\n",
      "[19:57:44] WARNING: not removing hydrogen atom without neighbors\n",
      "[19:57:45] WARNING: not removing hydrogen atom without neighbors\n",
      "[19:57:45] WARNING: not removing hydrogen atom without neighbors\n",
      "[19:57:45] WARNING: not removing hydrogen atom without neighbors\n",
      "[19:58:11] WARNING: not removing hydrogen atom without neighbors\n",
      "[19:58:11] WARNING: not removing hydrogen atom without neighbors\n",
      "[19:58:11] WARNING: not removing hydrogen atom without neighbors\n",
      "[19:58:11] WARNING: not removing hydrogen atom without neighbors\n",
      "[19:58:11] WARNING: not removing hydrogen atom without neighbors\n",
      "[19:58:23] WARNING: not removing hydrogen atom without neighbors\n",
      "[19:58:23] WARNING: not removing hydrogen atom without neighbors\n",
      "[19:58:23] WARNING: not removing hydrogen atom without neighbors\n",
      "[19:58:23] WARNING: not removing hydrogen atom without neighbors\n",
      "[19:58:23] WARNING: not removing hydrogen atom without neighbors\n",
      "[19:58:23] WARNING: not removing hydrogen atom without neighbors\n",
      "[19:58:23] WARNING: not removing hydrogen atom without neighbors\n",
      "[19:58:23] WARNING: not removing hydrogen atom without neighbors\n",
      "[19:58:23] WARNING: not removing hydrogen atom without neighbors\n",
      "[19:58:23] WARNING: not removing hydrogen atom without neighbors\n",
      "[19:58:23] WARNING: not removing hydrogen atom without neighbors\n",
      "[19:58:23] WARNING: not removing hydrogen atom without neighbors\n",
      "[19:58:23] WARNING: not removing hydrogen atom without neighbors\n",
      "[19:58:23] WARNING: not removing hydrogen atom without neighbors\n",
      "[19:58:23] WARNING: not removing hydrogen atom without neighbors\n",
      "[19:58:23] WARNING: not removing hydrogen atom without neighbors\n",
      "[19:58:23] WARNING: not removing hydrogen atom without neighbors\n",
      "[19:58:23] WARNING: not removing hydrogen atom without neighbors\n",
      "[19:58:23] WARNING: not removing hydrogen atom without neighbors\n",
      "[19:58:23] WARNING: not removing hydrogen atom without neighbors\n",
      "[19:58:23] WARNING: not removing hydrogen atom without neighbors\n",
      "[19:58:23] WARNING: not removing hydrogen atom without neighbors\n",
      "[19:58:23] WARNING: not removing hydrogen atom without neighbors\n",
      "[19:58:23] WARNING: not removing hydrogen atom without neighbors\n",
      "[19:58:23] WARNING: not removing hydrogen atom without neighbors\n",
      "[19:58:23] WARNING: not removing hydrogen atom without neighbors\n",
      "[19:58:23] WARNING: not removing hydrogen atom without neighbors\n",
      "[19:58:27] WARNING: not removing hydrogen atom without neighbors\n",
      "[19:58:27] WARNING: not removing hydrogen atom without neighbors\n",
      "[19:58:27] WARNING: not removing hydrogen atom without neighbors\n",
      "[19:58:27] WARNING: not removing hydrogen atom without neighbors\n",
      "[19:58:27] WARNING: not removing hydrogen atom without neighbors\n",
      "[19:58:27] WARNING: not removing hydrogen atom without neighbors\n",
      "[19:58:27] WARNING: not removing hydrogen atom without neighbors\n",
      "[19:58:27] WARNING: not removing hydrogen atom without neighbors\n",
      "[19:58:27] WARNING: not removing hydrogen atom without neighbors\n",
      "[19:58:27] WARNING: not removing hydrogen atom without neighbors\n",
      "[19:58:27] WARNING: not removing hydrogen atom without neighbors\n",
      "[19:58:27] WARNING: not removing hydrogen atom without neighbors\n",
      "[19:58:27] WARNING: not removing hydrogen atom without neighbors\n",
      "[19:58:27] WARNING: not removing hydrogen atom without neighbors\n",
      "[19:58:27] WARNING: not removing hydrogen atom without neighbors\n",
      "[19:58:28] WARNING: not removing hydrogen atom without neighbors\n",
      "[19:58:28] WARNING: not removing hydrogen atom without neighbors\n",
      "[19:58:28] WARNING: not removing hydrogen atom without neighbors\n",
      "[19:58:28] WARNING: not removing hydrogen atom without neighbors\n",
      "[19:58:28] WARNING: not removing hydrogen atom without neighbors\n",
      "[19:58:28] WARNING: not removing hydrogen atom without neighbors\n",
      "[19:58:33] WARNING: not removing hydrogen atom without neighbors\n",
      "[19:58:33] WARNING: not removing hydrogen atom without neighbors\n",
      "[19:58:33] WARNING: not removing hydrogen atom without neighbors\n",
      "[19:58:35] WARNING: not removing hydrogen atom without neighbors\n",
      "[19:58:35] WARNING: not removing hydrogen atom without neighbors\n",
      "[19:58:35] WARNING: not removing hydrogen atom without neighbors\n",
      "[19:58:35] WARNING: not removing hydrogen atom without neighbors\n",
      "[19:58:36] WARNING: not removing hydrogen atom without neighbors\n",
      "[19:58:37] WARNING: not removing hydrogen atom without neighbors\n",
      "[19:58:37] WARNING: not removing hydrogen atom without neighbors\n",
      "[19:58:37] WARNING: not removing hydrogen atom without neighbors\n",
      "[19:58:37] WARNING: not removing hydrogen atom without neighbors\n",
      "[19:58:37] WARNING: not removing hydrogen atom without neighbors\n",
      "[19:58:37] WARNING: not removing hydrogen atom without neighbors\n",
      "[19:58:37] WARNING: not removing hydrogen atom without neighbors\n",
      "[19:58:37] WARNING: not removing hydrogen atom without neighbors\n",
      "[19:58:37] WARNING: not removing hydrogen atom without neighbors\n",
      "[19:58:37] WARNING: not removing hydrogen atom without neighbors\n",
      "[19:58:37] WARNING: not removing hydrogen atom without neighbors\n",
      "[19:58:37] WARNING: not removing hydrogen atom without neighbors\n",
      "[19:58:37] WARNING: not removing hydrogen atom without neighbors\n",
      "[19:58:37] WARNING: not removing hydrogen atom without neighbors\n",
      "[19:58:37] WARNING: not removing hydrogen atom without neighbors\n",
      "[19:58:37] WARNING: not removing hydrogen atom without neighbors\n",
      "[19:58:37] WARNING: not removing hydrogen atom without neighbors\n",
      "[19:58:37] WARNING: not removing hydrogen atom without neighbors\n",
      "[19:58:37] WARNING: not removing hydrogen atom without neighbors\n",
      "[19:58:37] WARNING: not removing hydrogen atom without neighbors\n",
      "[19:58:37] WARNING: not removing hydrogen atom without neighbors\n",
      "[19:58:37] WARNING: not removing hydrogen atom without neighbors\n",
      "[19:58:37] WARNING: not removing hydrogen atom without neighbors\n",
      "[19:58:37] WARNING: not removing hydrogen atom without neighbors\n",
      "[19:58:37] WARNING: not removing hydrogen atom without neighbors\n",
      "[19:58:37] WARNING: not removing hydrogen atom without neighbors\n",
      "[19:58:37] WARNING: not removing hydrogen atom without neighbors\n",
      "[19:58:37] WARNING: not removing hydrogen atom without neighbors\n",
      "[19:58:37] WARNING: not removing hydrogen atom without neighbors\n",
      "[19:58:37] WARNING: not removing hydrogen atom without neighbors\n",
      "[19:58:37] WARNING: not removing hydrogen atom without neighbors\n",
      "[19:58:37] WARNING: not removing hydrogen atom without neighbors\n",
      "[19:58:37] WARNING: not removing hydrogen atom without neighbors\n",
      "[19:58:37] WARNING: not removing hydrogen atom without neighbors\n",
      "[19:58:37] WARNING: not removing hydrogen atom without neighbors\n",
      "[19:58:37] WARNING: not removing hydrogen atom without neighbors\n",
      "[19:58:37] WARNING: not removing hydrogen atom without neighbors\n",
      "[19:58:37] WARNING: not removing hydrogen atom without neighbors\n",
      "[19:58:37] WARNING: not removing hydrogen atom without neighbors\n",
      "[19:58:37] WARNING: not removing hydrogen atom without neighbors\n",
      "[19:58:37] WARNING: not removing hydrogen atom without neighbors\n",
      "[19:58:37] WARNING: not removing hydrogen atom without neighbors\n",
      "[19:58:37] WARNING: not removing hydrogen atom without neighbors\n",
      "[19:58:37] Explicit valence for atom # 28 Br, 2, is greater than permitted\n",
      "[19:58:37] WARNING: not removing hydrogen atom without neighbors\n",
      "[19:58:37] WARNING: not removing hydrogen atom without neighbors\n",
      "[19:58:37] WARNING: not removing hydrogen atom without neighbors\n",
      "[19:58:37] WARNING: not removing hydrogen atom without neighbors\n",
      "[19:58:37] WARNING: not removing hydrogen atom without neighbors\n",
      "[19:58:37] WARNING: not removing hydrogen atom without neighbors\n",
      "[19:58:37] WARNING: not removing hydrogen atom without neighbors\n",
      "[19:58:37] WARNING: not removing hydrogen atom without neighbors\n",
      "[19:58:37] WARNING: not removing hydrogen atom without neighbors\n",
      "[19:58:37] WARNING: not removing hydrogen atom without neighbors\n",
      "[19:58:37] WARNING: not removing hydrogen atom without neighbors\n",
      "[19:58:37] WARNING: not removing hydrogen atom without neighbors\n",
      "[19:58:37] WARNING: not removing hydrogen atom without neighbors\n",
      "[19:58:41] WARNING: not removing hydrogen atom without neighbors\n",
      "[19:58:41] Explicit valence for atom # 29 Br, 2, is greater than permitted\n",
      "[19:58:41] WARNING: not removing hydrogen atom without neighbors\n",
      "[19:58:41] WARNING: not removing hydrogen atom without neighbors\n",
      "[19:58:43] WARNING: not removing hydrogen atom without neighbors\n",
      "[19:58:43] WARNING: not removing hydrogen atom without neighbors\n",
      "[19:58:43] WARNING: not removing hydrogen atom without neighbors\n",
      "[19:58:43] WARNING: not removing hydrogen atom without neighbors\n",
      "[19:58:43] WARNING: not removing hydrogen atom without neighbors\n",
      "[19:58:43] WARNING: not removing hydrogen atom without neighbors\n",
      "[19:58:43] WARNING: not removing hydrogen atom without neighbors\n",
      "[19:58:43] WARNING: not removing hydrogen atom without neighbors\n",
      "[19:58:43] WARNING: not removing hydrogen atom without neighbors\n",
      "[19:58:43] WARNING: not removing hydrogen atom without neighbors\n",
      "[19:58:43] WARNING: not removing hydrogen atom without neighbors\n",
      "[19:58:43] WARNING: not removing hydrogen atom without neighbors\n",
      "[19:58:43] WARNING: not removing hydrogen atom without neighbors\n",
      "[19:58:43] WARNING: not removing hydrogen atom without neighbors\n",
      "[19:58:43] WARNING: not removing hydrogen atom without neighbors\n",
      "[19:58:43] WARNING: not removing hydrogen atom without neighbors\n",
      "[19:58:43] WARNING: not removing hydrogen atom without neighbors\n",
      "[19:58:43] WARNING: not removing hydrogen atom without neighbors\n",
      "[19:58:43] WARNING: not removing hydrogen atom without neighbors\n",
      "[19:58:43] WARNING: not removing hydrogen atom without neighbors\n",
      "[19:58:43] WARNING: not removing hydrogen atom without neighbors\n",
      "[19:58:43] WARNING: not removing hydrogen atom without neighbors\n",
      "[19:58:43] WARNING: not removing hydrogen atom without neighbors\n",
      "[19:58:43] WARNING: not removing hydrogen atom without neighbors\n",
      "[19:58:43] WARNING: not removing hydrogen atom without neighbors\n",
      "[19:58:43] WARNING: not removing hydrogen atom without neighbors\n",
      "[19:58:43] WARNING: not removing hydrogen atom without neighbors\n",
      "[19:58:43] WARNING: not removing hydrogen atom without neighbors\n",
      "[19:58:43] WARNING: not removing hydrogen atom without neighbors\n",
      "[19:58:43] WARNING: not removing hydrogen atom without neighbors\n",
      "[19:58:43] WARNING: not removing hydrogen atom without neighbors\n",
      "[19:58:43] WARNING: not removing hydrogen atom without neighbors\n",
      "[19:58:43] WARNING: not removing hydrogen atom without neighbors\n",
      "[19:58:43] WARNING: not removing hydrogen atom without neighbors\n",
      "[19:58:43] WARNING: not removing hydrogen atom without neighbors\n",
      "[19:58:43] WARNING: not removing hydrogen atom without neighbors\n",
      "[19:58:43] WARNING: not removing hydrogen atom without neighbors\n",
      "[19:58:43] WARNING: not removing hydrogen atom without neighbors\n",
      "[19:58:43] WARNING: not removing hydrogen atom without neighbors\n",
      "[19:58:43] WARNING: not removing hydrogen atom without neighbors\n",
      "[19:58:43] WARNING: not removing hydrogen atom without neighbors\n",
      "[19:58:43] WARNING: not removing hydrogen atom without neighbors\n",
      "[19:58:43] WARNING: not removing hydrogen atom without neighbors\n",
      "[19:58:43] WARNING: not removing hydrogen atom without neighbors\n",
      "[19:58:43] WARNING: not removing hydrogen atom without neighbors\n",
      "[19:58:43] WARNING: not removing hydrogen atom without neighbors\n",
      "[19:58:43] WARNING: not removing hydrogen atom without neighbors\n",
      "[19:58:43] WARNING: not removing hydrogen atom without neighbors\n",
      "[19:58:43] WARNING: not removing hydrogen atom without neighbors\n",
      "[19:58:43] WARNING: not removing hydrogen atom without neighbors\n",
      "[19:58:43] WARNING: not removing hydrogen atom without neighbors\n",
      "[19:58:43] WARNING: not removing hydrogen atom without neighbors\n",
      "[19:58:43] WARNING: not removing hydrogen atom without neighbors\n",
      "[19:58:43] WARNING: not removing hydrogen atom without neighbors\n",
      "[19:58:43] WARNING: not removing hydrogen atom without neighbors\n",
      "[19:58:43] WARNING: not removing hydrogen atom without neighbors\n",
      "[19:58:43] WARNING: not removing hydrogen atom without neighbors\n",
      "[19:58:43] WARNING: not removing hydrogen atom without neighbors\n",
      "[19:58:43] WARNING: not removing hydrogen atom without neighbors\n",
      "[19:58:43] WARNING: not removing hydrogen atom without neighbors\n",
      "[19:58:43] WARNING: not removing hydrogen atom without neighbors\n",
      "[19:58:43] WARNING: not removing hydrogen atom without neighbors\n",
      "[19:58:43] WARNING: not removing hydrogen atom without neighbors\n",
      "[19:58:43] WARNING: not removing hydrogen atom without neighbors\n",
      "[19:58:43] WARNING: not removing hydrogen atom without neighbors\n",
      "[19:58:43] WARNING: not removing hydrogen atom without neighbors\n",
      "[19:58:43] WARNING: not removing hydrogen atom without neighbors\n",
      "[19:58:43] WARNING: not removing hydrogen atom without neighbors\n",
      "[19:58:43] WARNING: not removing hydrogen atom without neighbors\n",
      "[19:58:43] WARNING: not removing hydrogen atom without neighbors\n",
      "[19:58:43] WARNING: not removing hydrogen atom without neighbors\n",
      "[19:58:43] WARNING: not removing hydrogen atom without neighbors\n",
      "[19:58:43] WARNING: not removing hydrogen atom without neighbors\n",
      "[19:58:43] WARNING: not removing hydrogen atom without neighbors\n",
      "[19:58:43] WARNING: not removing hydrogen atom without neighbors\n",
      "[19:58:43] WARNING: not removing hydrogen atom without neighbors\n",
      "[19:58:43] WARNING: not removing hydrogen atom without neighbors\n",
      "[19:58:43] WARNING: not removing hydrogen atom without neighbors\n",
      "[19:58:43] WARNING: not removing hydrogen atom without neighbors\n",
      "[19:58:43] WARNING: not removing hydrogen atom without neighbors\n",
      "[19:58:44] WARNING: not removing hydrogen atom without neighbors\n",
      "[19:58:44] WARNING: not removing hydrogen atom without neighbors\n",
      "[19:58:44] WARNING: not removing hydrogen atom without neighbors\n",
      "[19:58:44] WARNING: not removing hydrogen atom without neighbors\n",
      "[19:58:44] WARNING: not removing hydrogen atom without neighbors\n",
      "[19:58:44] WARNING: not removing hydrogen atom without neighbors\n",
      "[19:58:44] WARNING: not removing hydrogen atom without neighbors\n",
      "[19:58:44] WARNING: not removing hydrogen atom without neighbors\n",
      "[19:58:44] Explicit valence for atom # 12 Br, 2, is greater than permitted\n",
      "[19:58:44] WARNING: not removing hydrogen atom without neighbors\n",
      "[19:58:44] WARNING: not removing hydrogen atom without neighbors\n",
      "[19:58:44] WARNING: not removing hydrogen atom without neighbors\n",
      "[19:58:44] WARNING: not removing hydrogen atom without neighbors\n",
      "[19:58:44] WARNING: not removing hydrogen atom without neighbors\n",
      "[19:58:44] WARNING: not removing hydrogen atom without neighbors\n",
      "[19:58:44] WARNING: not removing hydrogen atom without neighbors\n",
      "[19:58:44] WARNING: not removing hydrogen atom without neighbors\n",
      "[19:58:44] WARNING: not removing hydrogen atom without neighbors\n",
      "[19:58:44] WARNING: not removing hydrogen atom without neighbors\n",
      "[19:58:44] WARNING: not removing hydrogen atom without neighbors\n",
      "[19:58:44] WARNING: not removing hydrogen atom without neighbors\n",
      "[19:58:44] WARNING: not removing hydrogen atom without neighbors\n",
      "[19:58:44] WARNING: not removing hydrogen atom without neighbors\n",
      "[19:58:44] WARNING: not removing hydrogen atom without neighbors\n",
      "[19:58:44] WARNING: not removing hydrogen atom without neighbors\n",
      "[19:58:44] WARNING: not removing hydrogen atom without neighbors\n",
      "[19:58:44] WARNING: not removing hydrogen atom without neighbors\n",
      "[19:58:44] WARNING: not removing hydrogen atom without neighbors\n",
      "[19:58:44] WARNING: not removing hydrogen atom without neighbors\n",
      "[19:58:44] WARNING: not removing hydrogen atom without neighbors\n",
      "[19:58:44] WARNING: not removing hydrogen atom without neighbors\n",
      "[19:58:44] WARNING: not removing hydrogen atom without neighbors\n",
      "[19:58:44] WARNING: not removing hydrogen atom without neighbors\n",
      "[19:58:44] WARNING: not removing hydrogen atom without neighbors\n",
      "[19:58:44] WARNING: not removing hydrogen atom without neighbors\n",
      "[19:58:44] WARNING: not removing hydrogen atom without neighbors\n",
      "[19:58:44] WARNING: not removing hydrogen atom without neighbors\n",
      "[19:58:44] WARNING: not removing hydrogen atom without neighbors\n",
      "[19:58:44] WARNING: not removing hydrogen atom without neighbors\n",
      "[19:58:44] WARNING: not removing hydrogen atom without neighbors\n",
      "[19:58:44] WARNING: not removing hydrogen atom without neighbors\n",
      "[19:58:44] WARNING: not removing hydrogen atom without neighbors\n",
      "[19:58:44] WARNING: not removing hydrogen atom without neighbors\n",
      "[19:58:44] WARNING: not removing hydrogen atom without neighbors\n",
      "[19:58:44] WARNING: not removing hydrogen atom without neighbors\n",
      "[19:58:44] WARNING: not removing hydrogen atom without neighbors\n",
      "[19:58:44] WARNING: not removing hydrogen atom without neighbors\n",
      "[19:58:44] WARNING: not removing hydrogen atom without neighbors\n",
      "[19:58:44] WARNING: not removing hydrogen atom without neighbors\n",
      "[19:58:44] WARNING: not removing hydrogen atom without neighbors\n",
      "[19:58:44] WARNING: not removing hydrogen atom without neighbors\n",
      "[19:58:44] WARNING: not removing hydrogen atom without neighbors\n",
      "[19:58:44] WARNING: not removing hydrogen atom without neighbors\n",
      "[19:58:44] WARNING: not removing hydrogen atom without neighbors\n",
      "[19:58:44] WARNING: not removing hydrogen atom without neighbors\n",
      "[19:58:45] WARNING: not removing hydrogen atom without neighbors\n",
      "[19:58:45] WARNING: not removing hydrogen atom without neighbors\n",
      "[19:58:45] Explicit valence for atom # 7 Br, 2, is greater than permitted\n",
      "[19:58:45] Explicit valence for atom # 10 Br, 2, is greater than permitted\n",
      "[19:58:45] Explicit valence for atom # 13 Br, 2, is greater than permitted\n",
      "[19:58:45] Explicit valence for atom # 19 Br, 2, is greater than permitted\n"
     ]
    },
    {
     "name": "stdout",
     "output_type": "stream",
     "text": [
      "Number of invalid SMILES: 7 out of 151966\n",
      "151959 valid SMILES remaining.\n",
      "Cleaned file saved as 'cleaned_smiles.csv'.\n"
     ]
    }
   ],
   "source": [
    "# 1. Check if the 'smiles' column exists\n",
    "if 'smiles' in df_polararea.columns:\n",
    "    \n",
    "    # 2. Create the 'mol' column with RDKit molecule objects\n",
    "    df_polararea['mol'] = df_polararea['smiles'].apply(lambda x: Chem.MolFromSmiles(x))\n",
    "    \n",
    "    # 3. Count invalid SMILES\n",
    "    n_invalid = df_polararea['mol'].isnull().sum()\n",
    "    print(f\"Number of invalid SMILES: {n_invalid} out of {len(df_polararea)}\")\n",
    "\n",
    "    # 4. Remove invalid SMILES\n",
    "    df_clean = df_polararea.dropna(subset=['mol']).copy()\n",
    "    print(f\"{len(df_clean)} valid SMILES remaining.\")\n",
    "\n",
    "    # 5. Optional: Save the cleaned DataFrame\n",
    "    df_clean.to_csv('cleaned_smiles.csv', index=False)\n",
    "    print(\"Cleaned file saved as 'cleaned_smiles.csv'.\")\n",
    "\n",
    "else:\n",
    "    print(\"❌ Error: 'smiles' column does not exist in the DataFrame.\")"
   ]
  },
  {
   "cell_type": "code",
   "execution_count": 219,
   "id": "e0caf65b-f556-48be-98a2-02f8f80a5ee7",
   "metadata": {},
   "outputs": [
    {
     "data": {
      "text/html": [
       "<div>\n",
       "<style scoped>\n",
       "    .dataframe tbody tr th:only-of-type {\n",
       "        vertical-align: middle;\n",
       "    }\n",
       "\n",
       "    .dataframe tbody tr th {\n",
       "        vertical-align: top;\n",
       "    }\n",
       "\n",
       "    .dataframe thead th {\n",
       "        text-align: right;\n",
       "    }\n",
       "</style>\n",
       "<table border=\"1\" class=\"dataframe\">\n",
       "  <thead>\n",
       "    <tr style=\"text-align: right;\">\n",
       "      <th></th>\n",
       "      <th>smiles</th>\n",
       "      <th>polararea</th>\n",
       "      <th>mol</th>\n",
       "    </tr>\n",
       "  </thead>\n",
       "  <tbody>\n",
       "    <tr>\n",
       "      <th>0</th>\n",
       "      <td>CN1CCC[C@H]1C2=CN=CC=C2</td>\n",
       "      <td>16.1</td>\n",
       "      <td>&lt;rdkit.Chem.rdchem.Mol object at 0x0000023E18C...</td>\n",
       "    </tr>\n",
       "    <tr>\n",
       "      <th>1</th>\n",
       "      <td>CC1(C(C1C(=O)OCC2=CC(=CC=C2)OC3=CC=CC=C3)C=C(C...</td>\n",
       "      <td>35.5</td>\n",
       "      <td>&lt;rdkit.Chem.rdchem.Mol object at 0x0000023E18C...</td>\n",
       "    </tr>\n",
       "    <tr>\n",
       "      <th>2</th>\n",
       "      <td>C[C@]12CC[C@](C[C@H]1C3=CC(=O)[C@@H]4[C@]5(CC[...</td>\n",
       "      <td>267.0</td>\n",
       "      <td>&lt;rdkit.Chem.rdchem.Mol object at 0x0000023E18C...</td>\n",
       "    </tr>\n",
       "    <tr>\n",
       "      <th>3</th>\n",
       "      <td>CN1C=NC2=C1C(=O)N(C(=O)N2C)C</td>\n",
       "      <td>58.4</td>\n",
       "      <td>&lt;rdkit.Chem.rdchem.Mol object at 0x0000023E18C...</td>\n",
       "    </tr>\n",
       "    <tr>\n",
       "      <th>4</th>\n",
       "      <td>C1=CC=C(C(=C1)C(=O)O)O</td>\n",
       "      <td>57.5</td>\n",
       "      <td>&lt;rdkit.Chem.rdchem.Mol object at 0x00000240CD3...</td>\n",
       "    </tr>\n",
       "  </tbody>\n",
       "</table>\n",
       "</div>"
      ],
      "text/plain": [
       "                                              smiles  polararea  \\\n",
       "0                            CN1CCC[C@H]1C2=CN=CC=C2       16.1   \n",
       "1  CC1(C(C1C(=O)OCC2=CC(=CC=C2)OC3=CC=CC=C3)C=C(C...       35.5   \n",
       "2  C[C@]12CC[C@](C[C@H]1C3=CC(=O)[C@@H]4[C@]5(CC[...      267.0   \n",
       "3                       CN1C=NC2=C1C(=O)N(C(=O)N2C)C       58.4   \n",
       "4                             C1=CC=C(C(=C1)C(=O)O)O       57.5   \n",
       "\n",
       "                                                 mol  \n",
       "0  <rdkit.Chem.rdchem.Mol object at 0x0000023E18C...  \n",
       "1  <rdkit.Chem.rdchem.Mol object at 0x0000023E18C...  \n",
       "2  <rdkit.Chem.rdchem.Mol object at 0x0000023E18C...  \n",
       "3  <rdkit.Chem.rdchem.Mol object at 0x0000023E18C...  \n",
       "4  <rdkit.Chem.rdchem.Mol object at 0x00000240CD3...  "
      ]
     },
     "execution_count": 219,
     "metadata": {},
     "output_type": "execute_result"
    }
   ],
   "source": [
    "df_clean.head()"
   ]
  },
  {
   "cell_type": "markdown",
   "id": "0925946e-acc5-4448-8358-c85c6fea2aa6",
   "metadata": {},
   "source": [
    "### Split data\n",
    "he dataset was randomly split into training and testing subsets using an 80/20 ratio. The training set was used to fit the model, while the test set was held out for final evaluation. A fixed random seed was applied to ensure reproducibility of the split."
   ]
  },
  {
   "cell_type": "code",
   "execution_count": 222,
   "id": "45c42469-d3a8-4d7c-a28c-46216c358645",
   "metadata": {},
   "outputs": [],
   "source": [
    "from sklearn.model_selection import train_test_split\n",
    "\n",
    "# 1. Build vocabulary of unique characters in SMILES\n",
    "unique_chars = sorted(set(\"\".join(df_clean[\"smiles\"])))\n",
    "char_to_index = {char: idx + 1 for idx, char in enumerate(unique_chars)}\n",
    "char_to_index[\"PAD\"] = 0  # Padding token\n",
    "\n",
    "# 2. Determine maximum sequence length\n",
    "max_length = df_clean[\"smiles\"].str.len().max()\n",
    "\n",
    "# 3. Function to encode SMILES into sequences of indices\n",
    "def encode_smiles(smiles):\n",
    "    sequence = [char_to_index[char] for char in smiles]\n",
    "    padding = [0] * (max_length - len(sequence))\n",
    "    return sequence + padding\n",
    "\n",
    "# 4. Apply encoding to the dataset\n",
    "df_clean[\"SMILES_seq\"] = df_clean[\"smiles\"].apply(encode_smiles)\n",
    "\n",
    "# 5. Convert to numpy arrays\n",
    "X = np.vstack(df_clean[\"SMILES_seq\"].values)\n",
    "y = df_clean[\"polararea\"].values\n",
    "\n",
    "# 6. Train/test split\n",
    "X_train, X_test, y_train, y_test = train_test_split(\n",
    "    X, y, test_size=0.2, random_state=42\n",
    ")"
   ]
  },
  {
   "cell_type": "code",
   "execution_count": 223,
   "id": "e67ace43-dd71-4e53-8414-1f3dcaca4ad1",
   "metadata": {},
   "outputs": [
    {
     "name": "stdout",
     "output_type": "stream",
     "text": [
      "X_train: (121567, 997, 1),X_test: (30392, 997, 1) \n"
     ]
    }
   ],
   "source": [
    "X_train = X_train.reshape((X_train.shape[0], X_train.shape[1], 1))\n",
    "X_test = X_test.reshape((X_test.shape[0], X_test.shape[1], 1))\n",
    "print(f\"X_train: {X_train.shape},X_test: {X_test.shape} \")"
   ]
  },
  {
   "cell_type": "markdown",
   "id": "5eed0b64-7572-4bf8-bb04-90290e4cc535",
   "metadata": {},
   "source": [
    "### Scaling"
   ]
  },
  {
   "cell_type": "code",
   "execution_count": 225,
   "id": "9f121c4b-d365-4f41-9265-a61d3615c663",
   "metadata": {},
   "outputs": [
    {
     "name": "stdout",
     "output_type": "stream",
     "text": [
      "After normalization: min=0.0, max=1.0\n"
     ]
    }
   ],
   "source": [
    "from sklearn.preprocessing import MinMaxScaler\n",
    "\n",
    "scaler = MinMaxScaler()\n",
    "y_train_scaled = scaler.fit_transform(y_train.reshape(-1, 1))\n",
    "y_test_scaled = scaler.transform(y_test.reshape(-1, 1))\n",
    "\n",
    "\n",
    "\n",
    "# Print min and max to verify normalization\n",
    "print(f\"After normalization: min={y_train_scaled.min()}, max={y_train_scaled.max()}\")"
   ]
  },
  {
   "cell_type": "markdown",
   "id": "6df2f5d6-a1f3-45aa-a10b-c8360d056ad1",
   "metadata": {},
   "source": [
    "### Model Architecture\n",
    "We implement a hybrid model using:\n",
    "- Embedding layer: encodes SMILES tokens into dense vectors\n",
    "- Conv1D: captures local chemical patterns\n",
    "- GRU layers: capture long-range dependencies\n",
    "- Dense layers with dropout for regression output"
   ]
  },
  {
   "cell_type": "code",
   "execution_count": 226,
   "id": "0d213ac7-8b84-405a-824a-6d3bbbe2d982",
   "metadata": {},
   "outputs": [
    {
     "name": "stderr",
     "output_type": "stream",
     "text": [
      "C:\\Users\\romin\\anaconda3\\Lib\\site-packages\\keras\\src\\layers\\core\\embedding.py:93: UserWarning: Do not pass an `input_shape`/`input_dim` argument to a layer. When using Sequential models, prefer using an `Input(shape)` object as the first layer in the model instead.\n",
      "  super().__init__(**kwargs)\n"
     ]
    },
    {
     "data": {
      "text/html": [
       "<pre style=\"white-space:pre;overflow-x:auto;line-height:normal;font-family:Menlo,'DejaVu Sans Mono',consolas,'Courier New',monospace\"><span style=\"font-weight: bold\">Model: \"sequential_5\"</span>\n",
       "</pre>\n"
      ],
      "text/plain": [
       "\u001b[1mModel: \"sequential_5\"\u001b[0m\n"
      ]
     },
     "metadata": {},
     "output_type": "display_data"
    },
    {
     "data": {
      "text/html": [
       "<pre style=\"white-space:pre;overflow-x:auto;line-height:normal;font-family:Menlo,'DejaVu Sans Mono',consolas,'Courier New',monospace\">┏━━━━━━━━━━━━━━━━━━━━━━━━━━━━━━━━━┳━━━━━━━━━━━━━━━━━━━━━━━━┳━━━━━━━━━━━━━━━┓\n",
       "┃<span style=\"font-weight: bold\"> Layer (type)                    </span>┃<span style=\"font-weight: bold\"> Output Shape           </span>┃<span style=\"font-weight: bold\">       Param # </span>┃\n",
       "┡━━━━━━━━━━━━━━━━━━━━━━━━━━━━━━━━━╇━━━━━━━━━━━━━━━━━━━━━━━━╇━━━━━━━━━━━━━━━┩\n",
       "│ embedding_5 (<span style=\"color: #0087ff; text-decoration-color: #0087ff\">Embedding</span>)         │ (<span style=\"color: #00d7ff; text-decoration-color: #00d7ff\">None</span>, <span style=\"color: #00af00; text-decoration-color: #00af00\">997</span>, <span style=\"color: #00af00; text-decoration-color: #00af00\">128</span>)       │         <span style=\"color: #00af00; text-decoration-color: #00af00\">8,320</span> │\n",
       "├─────────────────────────────────┼────────────────────────┼───────────────┤\n",
       "│ conv1d_5 (<span style=\"color: #0087ff; text-decoration-color: #0087ff\">Conv1D</span>)               │ (<span style=\"color: #00d7ff; text-decoration-color: #00d7ff\">None</span>, <span style=\"color: #00af00; text-decoration-color: #00af00\">995</span>, <span style=\"color: #00af00; text-decoration-color: #00af00\">64</span>)        │        <span style=\"color: #00af00; text-decoration-color: #00af00\">24,640</span> │\n",
       "├─────────────────────────────────┼────────────────────────┼───────────────┤\n",
       "│ global_max_pooling1d_5          │ (<span style=\"color: #00d7ff; text-decoration-color: #00d7ff\">None</span>, <span style=\"color: #00af00; text-decoration-color: #00af00\">64</span>)             │             <span style=\"color: #00af00; text-decoration-color: #00af00\">0</span> │\n",
       "│ (<span style=\"color: #0087ff; text-decoration-color: #0087ff\">GlobalMaxPooling1D</span>)            │                        │               │\n",
       "├─────────────────────────────────┼────────────────────────┼───────────────┤\n",
       "│ reshape_5 (<span style=\"color: #0087ff; text-decoration-color: #0087ff\">Reshape</span>)             │ (<span style=\"color: #00d7ff; text-decoration-color: #00d7ff\">None</span>, <span style=\"color: #00af00; text-decoration-color: #00af00\">64</span>, <span style=\"color: #00af00; text-decoration-color: #00af00\">1</span>)          │             <span style=\"color: #00af00; text-decoration-color: #00af00\">0</span> │\n",
       "├─────────────────────────────────┼────────────────────────┼───────────────┤\n",
       "│ gru_10 (<span style=\"color: #0087ff; text-decoration-color: #0087ff\">GRU</span>)                    │ (<span style=\"color: #00d7ff; text-decoration-color: #00d7ff\">None</span>, <span style=\"color: #00af00; text-decoration-color: #00af00\">64</span>, <span style=\"color: #00af00; text-decoration-color: #00af00\">64</span>)         │        <span style=\"color: #00af00; text-decoration-color: #00af00\">12,864</span> │\n",
       "├─────────────────────────────────┼────────────────────────┼───────────────┤\n",
       "│ gru_11 (<span style=\"color: #0087ff; text-decoration-color: #0087ff\">GRU</span>)                    │ (<span style=\"color: #00d7ff; text-decoration-color: #00d7ff\">None</span>, <span style=\"color: #00af00; text-decoration-color: #00af00\">32</span>)             │         <span style=\"color: #00af00; text-decoration-color: #00af00\">9,408</span> │\n",
       "├─────────────────────────────────┼────────────────────────┼───────────────┤\n",
       "│ dense_15 (<span style=\"color: #0087ff; text-decoration-color: #0087ff\">Dense</span>)                │ (<span style=\"color: #00d7ff; text-decoration-color: #00d7ff\">None</span>, <span style=\"color: #00af00; text-decoration-color: #00af00\">64</span>)             │         <span style=\"color: #00af00; text-decoration-color: #00af00\">2,112</span> │\n",
       "├─────────────────────────────────┼────────────────────────┼───────────────┤\n",
       "│ dropout_10 (<span style=\"color: #0087ff; text-decoration-color: #0087ff\">Dropout</span>)            │ (<span style=\"color: #00d7ff; text-decoration-color: #00d7ff\">None</span>, <span style=\"color: #00af00; text-decoration-color: #00af00\">64</span>)             │             <span style=\"color: #00af00; text-decoration-color: #00af00\">0</span> │\n",
       "├─────────────────────────────────┼────────────────────────┼───────────────┤\n",
       "│ dense_16 (<span style=\"color: #0087ff; text-decoration-color: #0087ff\">Dense</span>)                │ (<span style=\"color: #00d7ff; text-decoration-color: #00d7ff\">None</span>, <span style=\"color: #00af00; text-decoration-color: #00af00\">32</span>)             │         <span style=\"color: #00af00; text-decoration-color: #00af00\">2,080</span> │\n",
       "├─────────────────────────────────┼────────────────────────┼───────────────┤\n",
       "│ dropout_11 (<span style=\"color: #0087ff; text-decoration-color: #0087ff\">Dropout</span>)            │ (<span style=\"color: #00d7ff; text-decoration-color: #00d7ff\">None</span>, <span style=\"color: #00af00; text-decoration-color: #00af00\">32</span>)             │             <span style=\"color: #00af00; text-decoration-color: #00af00\">0</span> │\n",
       "├─────────────────────────────────┼────────────────────────┼───────────────┤\n",
       "│ dense_17 (<span style=\"color: #0087ff; text-decoration-color: #0087ff\">Dense</span>)                │ (<span style=\"color: #00d7ff; text-decoration-color: #00d7ff\">None</span>, <span style=\"color: #00af00; text-decoration-color: #00af00\">1</span>)              │            <span style=\"color: #00af00; text-decoration-color: #00af00\">33</span> │\n",
       "└─────────────────────────────────┴────────────────────────┴───────────────┘\n",
       "</pre>\n"
      ],
      "text/plain": [
       "┏━━━━━━━━━━━━━━━━━━━━━━━━━━━━━━━━━┳━━━━━━━━━━━━━━━━━━━━━━━━┳━━━━━━━━━━━━━━━┓\n",
       "┃\u001b[1m \u001b[0m\u001b[1mLayer (type)                   \u001b[0m\u001b[1m \u001b[0m┃\u001b[1m \u001b[0m\u001b[1mOutput Shape          \u001b[0m\u001b[1m \u001b[0m┃\u001b[1m \u001b[0m\u001b[1m      Param #\u001b[0m\u001b[1m \u001b[0m┃\n",
       "┡━━━━━━━━━━━━━━━━━━━━━━━━━━━━━━━━━╇━━━━━━━━━━━━━━━━━━━━━━━━╇━━━━━━━━━━━━━━━┩\n",
       "│ embedding_5 (\u001b[38;5;33mEmbedding\u001b[0m)         │ (\u001b[38;5;45mNone\u001b[0m, \u001b[38;5;34m997\u001b[0m, \u001b[38;5;34m128\u001b[0m)       │         \u001b[38;5;34m8,320\u001b[0m │\n",
       "├─────────────────────────────────┼────────────────────────┼───────────────┤\n",
       "│ conv1d_5 (\u001b[38;5;33mConv1D\u001b[0m)               │ (\u001b[38;5;45mNone\u001b[0m, \u001b[38;5;34m995\u001b[0m, \u001b[38;5;34m64\u001b[0m)        │        \u001b[38;5;34m24,640\u001b[0m │\n",
       "├─────────────────────────────────┼────────────────────────┼───────────────┤\n",
       "│ global_max_pooling1d_5          │ (\u001b[38;5;45mNone\u001b[0m, \u001b[38;5;34m64\u001b[0m)             │             \u001b[38;5;34m0\u001b[0m │\n",
       "│ (\u001b[38;5;33mGlobalMaxPooling1D\u001b[0m)            │                        │               │\n",
       "├─────────────────────────────────┼────────────────────────┼───────────────┤\n",
       "│ reshape_5 (\u001b[38;5;33mReshape\u001b[0m)             │ (\u001b[38;5;45mNone\u001b[0m, \u001b[38;5;34m64\u001b[0m, \u001b[38;5;34m1\u001b[0m)          │             \u001b[38;5;34m0\u001b[0m │\n",
       "├─────────────────────────────────┼────────────────────────┼───────────────┤\n",
       "│ gru_10 (\u001b[38;5;33mGRU\u001b[0m)                    │ (\u001b[38;5;45mNone\u001b[0m, \u001b[38;5;34m64\u001b[0m, \u001b[38;5;34m64\u001b[0m)         │        \u001b[38;5;34m12,864\u001b[0m │\n",
       "├─────────────────────────────────┼────────────────────────┼───────────────┤\n",
       "│ gru_11 (\u001b[38;5;33mGRU\u001b[0m)                    │ (\u001b[38;5;45mNone\u001b[0m, \u001b[38;5;34m32\u001b[0m)             │         \u001b[38;5;34m9,408\u001b[0m │\n",
       "├─────────────────────────────────┼────────────────────────┼───────────────┤\n",
       "│ dense_15 (\u001b[38;5;33mDense\u001b[0m)                │ (\u001b[38;5;45mNone\u001b[0m, \u001b[38;5;34m64\u001b[0m)             │         \u001b[38;5;34m2,112\u001b[0m │\n",
       "├─────────────────────────────────┼────────────────────────┼───────────────┤\n",
       "│ dropout_10 (\u001b[38;5;33mDropout\u001b[0m)            │ (\u001b[38;5;45mNone\u001b[0m, \u001b[38;5;34m64\u001b[0m)             │             \u001b[38;5;34m0\u001b[0m │\n",
       "├─────────────────────────────────┼────────────────────────┼───────────────┤\n",
       "│ dense_16 (\u001b[38;5;33mDense\u001b[0m)                │ (\u001b[38;5;45mNone\u001b[0m, \u001b[38;5;34m32\u001b[0m)             │         \u001b[38;5;34m2,080\u001b[0m │\n",
       "├─────────────────────────────────┼────────────────────────┼───────────────┤\n",
       "│ dropout_11 (\u001b[38;5;33mDropout\u001b[0m)            │ (\u001b[38;5;45mNone\u001b[0m, \u001b[38;5;34m32\u001b[0m)             │             \u001b[38;5;34m0\u001b[0m │\n",
       "├─────────────────────────────────┼────────────────────────┼───────────────┤\n",
       "│ dense_17 (\u001b[38;5;33mDense\u001b[0m)                │ (\u001b[38;5;45mNone\u001b[0m, \u001b[38;5;34m1\u001b[0m)              │            \u001b[38;5;34m33\u001b[0m │\n",
       "└─────────────────────────────────┴────────────────────────┴───────────────┘\n"
      ]
     },
     "metadata": {},
     "output_type": "display_data"
    },
    {
     "data": {
      "text/html": [
       "<pre style=\"white-space:pre;overflow-x:auto;line-height:normal;font-family:Menlo,'DejaVu Sans Mono',consolas,'Courier New',monospace\"><span style=\"font-weight: bold\"> Total params: </span><span style=\"color: #00af00; text-decoration-color: #00af00\">59,457</span> (232.25 KB)\n",
       "</pre>\n"
      ],
      "text/plain": [
       "\u001b[1m Total params: \u001b[0m\u001b[38;5;34m59,457\u001b[0m (232.25 KB)\n"
      ]
     },
     "metadata": {},
     "output_type": "display_data"
    },
    {
     "data": {
      "text/html": [
       "<pre style=\"white-space:pre;overflow-x:auto;line-height:normal;font-family:Menlo,'DejaVu Sans Mono',consolas,'Courier New',monospace\"><span style=\"font-weight: bold\"> Trainable params: </span><span style=\"color: #00af00; text-decoration-color: #00af00\">59,457</span> (232.25 KB)\n",
       "</pre>\n"
      ],
      "text/plain": [
       "\u001b[1m Trainable params: \u001b[0m\u001b[38;5;34m59,457\u001b[0m (232.25 KB)\n"
      ]
     },
     "metadata": {},
     "output_type": "display_data"
    },
    {
     "data": {
      "text/html": [
       "<pre style=\"white-space:pre;overflow-x:auto;line-height:normal;font-family:Menlo,'DejaVu Sans Mono',consolas,'Courier New',monospace\"><span style=\"font-weight: bold\"> Non-trainable params: </span><span style=\"color: #00af00; text-decoration-color: #00af00\">0</span> (0.00 B)\n",
       "</pre>\n"
      ],
      "text/plain": [
       "\u001b[1m Non-trainable params: \u001b[0m\u001b[38;5;34m0\u001b[0m (0.00 B)\n"
      ]
     },
     "metadata": {},
     "output_type": "display_data"
    }
   ],
   "source": [
    "# Parameters\n",
    "VOCAB_SIZE = len(char_to_index)\n",
    "MAX_LENGTH = X_train.shape[1]\n",
    "\n",
    "def build_model(vocab_size, max_length):\n",
    "    model = keras.Sequential([\n",
    "        Embedding(input_dim=vocab_size, output_dim=128, input_shape=(max_length,)),  # Embedding layer ensures 3D input\n",
    "        Conv1D(64, kernel_size=3, activation=\"relu\"),\n",
    "        GlobalMaxPooling1D(),\n",
    "        tf.keras.layers.Reshape((-1, 1)),  # Ensure input to GRU is 3D\n",
    "        GRU(64, return_sequences=True),\n",
    "        GRU(32),\n",
    "        Dense(64, activation=\"relu\"),\n",
    "        Dropout(0.2),\n",
    "        Dense(32, activation=\"relu\"),\n",
    "        Dropout(0.2),\n",
    "        Dense(1, activation=\"linear\")  # Regression output\n",
    "    ])\n",
    "    \n",
    "    model.compile(optimizer=\"adam\", loss=\"mse\", metrics=[\"mae\"])\n",
    "    return model\n",
    "\n",
    "# Build the model\n",
    "model = build_model(VOCAB_SIZE, MAX_LENGTH)\n",
    "\n",
    "# Print model summary\n",
    "model.summary()"
   ]
  },
  {
   "cell_type": "code",
   "execution_count": 187,
   "id": "346f0e85-6f08-49cd-a993-8182acb304d3",
   "metadata": {},
   "outputs": [
    {
     "name": "stdout",
     "output_type": "stream",
     "text": [
      "Epoch 1/50\n",
      "\u001b[1m3799/3799\u001b[0m \u001b[32m━━━━━━━━━━━━━━━━━━━━\u001b[0m\u001b[37m\u001b[0m \u001b[1m214s\u001b[0m 55ms/step - loss: 2.6884e-04 - mae: 0.0100 - val_loss: 1.6172e-04 - val_mae: 0.0079\n",
      "Epoch 2/50\n",
      "\u001b[1m3799/3799\u001b[0m \u001b[32m━━━━━━━━━━━━━━━━━━━━\u001b[0m\u001b[37m\u001b[0m \u001b[1m203s\u001b[0m 53ms/step - loss: 1.6397e-04 - mae: 0.0076 - val_loss: 1.7863e-04 - val_mae: 0.0080\n",
      "Epoch 3/50\n",
      "\u001b[1m3799/3799\u001b[0m \u001b[32m━━━━━━━━━━━━━━━━━━━━\u001b[0m\u001b[37m\u001b[0m \u001b[1m661s\u001b[0m 174ms/step - loss: 1.3272e-04 - mae: 0.0068 - val_loss: 1.1800e-04 - val_mae: 0.0074\n",
      "Epoch 4/50\n",
      "\u001b[1m3799/3799\u001b[0m \u001b[32m━━━━━━━━━━━━━━━━━━━━\u001b[0m\u001b[37m\u001b[0m \u001b[1m224s\u001b[0m 59ms/step - loss: 1.4450e-04 - mae: 0.0069 - val_loss: 1.2514e-04 - val_mae: 0.0075\n",
      "Epoch 5/50\n",
      "\u001b[1m3799/3799\u001b[0m \u001b[32m━━━━━━━━━━━━━━━━━━━━\u001b[0m\u001b[37m\u001b[0m \u001b[1m231s\u001b[0m 61ms/step - loss: 1.5604e-04 - mae: 0.0067 - val_loss: 1.1041e-04 - val_mae: 0.0072\n",
      "Epoch 6/50\n",
      "\u001b[1m3799/3799\u001b[0m \u001b[32m━━━━━━━━━━━━━━━━━━━━\u001b[0m\u001b[37m\u001b[0m \u001b[1m225s\u001b[0m 59ms/step - loss: 1.5051e-04 - mae: 0.0067 - val_loss: 9.9568e-05 - val_mae: 0.0063\n",
      "Epoch 7/50\n",
      "\u001b[1m3799/3799\u001b[0m \u001b[32m━━━━━━━━━━━━━━━━━━━━\u001b[0m\u001b[37m\u001b[0m \u001b[1m225s\u001b[0m 59ms/step - loss: 1.1534e-04 - mae: 0.0062 - val_loss: 9.3150e-05 - val_mae: 0.0061\n",
      "Epoch 8/50\n",
      "\u001b[1m3799/3799\u001b[0m \u001b[32m━━━━━━━━━━━━━━━━━━━━\u001b[0m\u001b[37m\u001b[0m \u001b[1m226s\u001b[0m 59ms/step - loss: 1.1327e-04 - mae: 0.0062 - val_loss: 1.0075e-04 - val_mae: 0.0066\n",
      "Epoch 9/50\n",
      "\u001b[1m3799/3799\u001b[0m \u001b[32m━━━━━━━━━━━━━━━━━━━━\u001b[0m\u001b[37m\u001b[0m \u001b[1m227s\u001b[0m 60ms/step - loss: 1.2278e-04 - mae: 0.0064 - val_loss: 9.8397e-05 - val_mae: 0.0065\n",
      "Epoch 10/50\n",
      "\u001b[1m3799/3799\u001b[0m \u001b[32m━━━━━━━━━━━━━━━━━━━━\u001b[0m\u001b[37m\u001b[0m \u001b[1m229s\u001b[0m 60ms/step - loss: 1.1786e-04 - mae: 0.0063 - val_loss: 9.5593e-05 - val_mae: 0.0065\n",
      "Epoch 11/50\n",
      "\u001b[1m3799/3799\u001b[0m \u001b[32m━━━━━━━━━━━━━━━━━━━━\u001b[0m\u001b[37m\u001b[0m \u001b[1m228s\u001b[0m 60ms/step - loss: 1.1119e-04 - mae: 0.0062 - val_loss: 8.9576e-05 - val_mae: 0.0060\n",
      "Epoch 12/50\n",
      "\u001b[1m3799/3799\u001b[0m \u001b[32m━━━━━━━━━━━━━━━━━━━━\u001b[0m\u001b[37m\u001b[0m \u001b[1m231s\u001b[0m 61ms/step - loss: 1.2170e-04 - mae: 0.0063 - val_loss: 1.1168e-04 - val_mae: 0.0071\n",
      "Epoch 13/50\n",
      "\u001b[1m3799/3799\u001b[0m \u001b[32m━━━━━━━━━━━━━━━━━━━━\u001b[0m\u001b[37m\u001b[0m \u001b[1m234s\u001b[0m 61ms/step - loss: 1.0302e-04 - mae: 0.0061 - val_loss: 9.8774e-05 - val_mae: 0.0067\n",
      "Epoch 14/50\n",
      "\u001b[1m3799/3799\u001b[0m \u001b[32m━━━━━━━━━━━━━━━━━━━━\u001b[0m\u001b[37m\u001b[0m \u001b[1m234s\u001b[0m 62ms/step - loss: 1.1584e-04 - mae: 0.0062 - val_loss: 9.1954e-05 - val_mae: 0.0061\n",
      "Epoch 15/50\n",
      "\u001b[1m3799/3799\u001b[0m \u001b[32m━━━━━━━━━━━━━━━━━━━━\u001b[0m\u001b[37m\u001b[0m \u001b[1m237s\u001b[0m 62ms/step - loss: 1.1062e-04 - mae: 0.0060 - val_loss: 9.4355e-05 - val_mae: 0.0065\n",
      "Epoch 16/50\n",
      "\u001b[1m3799/3799\u001b[0m \u001b[32m━━━━━━━━━━━━━━━━━━━━\u001b[0m\u001b[37m\u001b[0m \u001b[1m244s\u001b[0m 64ms/step - loss: 1.1153e-04 - mae: 0.0060 - val_loss: 9.7941e-05 - val_mae: 0.0066\n"
     ]
    }
   ],
   "source": [
    "from tensorflow.keras.callbacks import EarlyStopping\n",
    "\n",
    "# Use EarlyStopping to prevent overfitting\n",
    "early_stop = EarlyStopping(monitor='val_loss', patience=5, restore_best_weights=True)\n",
    "\n",
    "# Train the model\n",
    "history = model.fit(\n",
    "    X_train, y_train_scaled,\n",
    "    validation_data=(X_test, y_test_scaled),\n",
    "    batch_size=32,\n",
    "    epochs=50,\n",
    "    verbose=1,\n",
    "    callbacks=[early_stop])\n",
    "\n",
    "model.save('modelo_smilesV3.keras')"
   ]
  },
  {
   "cell_type": "markdown",
   "id": "ebf7ad4c-e675-44b5-974b-e2648e0af5fb",
   "metadata": {},
   "source": [
    "### Model Evaluation and Prediction "
   ]
  },
  {
   "cell_type": "code",
   "execution_count": 190,
   "id": "0b9110f5-328b-4999-97f1-4f3103c85ef0",
   "metadata": {},
   "outputs": [
    {
     "name": "stdout",
     "output_type": "stream",
     "text": [
      "\u001b[1m950/950\u001b[0m \u001b[32m━━━━━━━━━━━━━━━━━━━━\u001b[0m\u001b[37m\u001b[0m \u001b[1m18s\u001b[0m 19ms/step - loss: 9.8241e-05 - mae: 0.0060\n",
      "Mean Absolute Error: 0.0060\n"
     ]
    }
   ],
   "source": [
    "loss, mae = model.evaluate(X_test, y_test_scaled)\n",
    "print(f'Mean Absolute Error: {mae:.4f}')"
   ]
  },
  {
   "cell_type": "code",
   "execution_count": 193,
   "id": "11d1ea06-1157-47ea-8472-6839901cdcc5",
   "metadata": {
    "scrolled": true
   },
   "outputs": [
    {
     "name": "stdout",
     "output_type": "stream",
     "text": [
      "\u001b[1m950/950\u001b[0m \u001b[32m━━━━━━━━━━━━━━━━━━━━\u001b[0m\u001b[37m\u001b[0m \u001b[1m18s\u001b[0m 18ms/step\n",
      "Real: 82.2000 | Predicted: 97.6131\n",
      "Real: 94.6000 | Predicted: 97.4280\n",
      "Real: 96.1000 | Predicted: 95.1187\n",
      "Real: 107.0000 | Predicted: 111.9033\n",
      "Real: 131.0000 | Predicted: 120.1028\n",
      "Real: 107.0000 | Predicted: 97.1354\n",
      "Real: 132.0000 | Predicted: 120.3991\n",
      "Real: 114.0000 | Predicted: 116.9518\n",
      "Real: 76.3000 | Predicted: 106.6934\n",
      "Real: 73.5000 | Predicted: 87.5665\n"
     ]
    }
   ],
   "source": [
    "# Predicting on the full test set\n",
    "predictions = model.predict(X_test)\n",
    "\n",
    "# Denormalize predictions (convert them to the original scale)\n",
    "predictions_original = scaler.inverse_transform(predictions)\n",
    "\n",
    "# Denormalize the real labels (y_test) so they are on the same scale\n",
    "y_test_original = scaler.inverse_transform(y_test_scaled)\n",
    "\n",
    "# Show some examples comparing the predictions with the real values\n",
    "import numpy as np\n",
    "for i in range(10): # Show only 10 examples\n",
    "    print(f\"Real: {y_test_original[i][0]:.4f} | Predicted: {predictions_original[i][0]:.4f}\")"
   ]
  },
  {
   "cell_type": "code",
   "execution_count": 195,
   "id": "b720b04d-7dda-488a-b4b6-204fe4475ff4",
   "metadata": {},
   "outputs": [
    {
     "data": {
      "image/png": "[encoded data removed]",
      "text/plain": [
       "<Figure size 640x480 with 1 Axes>"
      ]
     },
     "metadata": {},
     "output_type": "display_data"
    }
   ],
   "source": [
    "import matplotlib.pyplot as plt\n",
    "\n",
    "plt.scatter(y_test_original, predictions_original)\n",
    "plt.plot([min(y_test_original), max(y_test_original)], [min(y_test_original), max(y_test_original)], 'r--')  # Línea ideal\n",
    "plt.xlabel('Real')\n",
    "plt.ylabel('Predicted')\n",
    "plt.title('Real vs Predicted')\n",
    "plt.show()"
   ]
  },
  {
   "cell_type": "code",
   "execution_count": 197,
   "id": "efca5e1c-4be0-459c-a930-486c331a7b63",
   "metadata": {},
   "outputs": [
    {
     "data": {
      "image/png": "[encoded data removed]",
      "text/plain": [
       "<Figure size 600x600 with 1 Axes>"
      ]
     },
     "metadata": {},
     "output_type": "display_data"
    }
   ],
   "source": [
    "# Create the plot\n",
    "plt.figure(figsize=(6, 6))\n",
    "\n",
    "\n",
    "# Plot Test\n",
    "plt.scatter(y_test_original, predictions_original, label='Test', alpha=0.7)\n",
    "\n",
    "# Línea y = x\n",
    "min_val = min(np.min(y_test_original), np.min(predictions_original))\n",
    "max_val = max(np.max(y_test_original), np.max(predictions_original))\n",
    "plt.plot([min_val, max_val], [min_val, max_val], 'k--',label='Target', alpha=0.8)\n",
    "\n",
    "# Línea de regresión ajustada\n",
    "sns.regplot(x=y_test_original, y=predictions_original, scatter=False)\n",
    "\n",
    "plt.xlabel('Target Value')\n",
    "plt.ylabel('Predicted Value')\n",
    "plt.title('Scatter diagram for Polar Area prediction')\n",
    "plt.legend()\n",
    "plt.grid(False)\n",
    "plt.tight_layout()\n",
    "\n",
    "plt.show()\n"
   ]
  },
  {
   "cell_type": "code",
   "execution_count": 199,
   "id": "84a8a4ec-0b95-4f39-a218-80c55e04f3f3",
   "metadata": {},
   "outputs": [
    {
     "data": {
      "image/png": "[encoded data removed]",
      "text/plain": [
       "<Figure size 600x500 with 1 Axes>"
      ]
     },
     "metadata": {},
     "output_type": "display_data"
    }
   ],
   "source": [
    "import matplotlib.pyplot as plt\n",
    "\n",
    "# Extract loss values\n",
    "train_loss = history.history['loss']\n",
    "val_loss = history.history['val_loss']\n",
    "epochs = range(1, len(train_loss) + 1)\n",
    "\n",
    "# Create the plot\n",
    "plt.figure(figsize=(6, 5))\n",
    "\n",
    "plt.plot(epochs, train_loss, label='Train')\n",
    "plt.plot(epochs, val_loss, label='Validation')\n",
    "\n",
    "plt.xlabel('Epoch')\n",
    "plt.ylabel('Loss')\n",
    "plt.title('fold-2')\n",
    "plt.legend()\n",
    "plt.grid(False)\n",
    "plt.tight_layout()\n",
    "\n",
    "# Show the plot\n",
    "plt.show()\n",
    "\n",
    "# Optional: Save the figure\n",
    "# plt.savefig('training_loss_fold2.png', dpi=300)\n"
   ]
  },
  {
   "cell_type": "markdown",
   "id": "fdb32dba-e1e1-41e9-bcaf-b53df23c1a76",
   "metadata": {},
   "source": [
    "#### Retraining\n",
    "IT was aditional only to chek if it was able to improve the training. But the resul wasn't better"
   ]
  },
  {
   "cell_type": "code",
   "execution_count": 207,
   "id": "c2fb5628-a755-4ced-a445-658b2ff417c4",
   "metadata": {},
   "outputs": [],
   "source": [
    "# Load model\n",
    "from tensorflow.keras.models import load_model\n",
    "model = load_model('models/modelo_smiles.keras', compile=False)"
   ]
  },
  {
   "cell_type": "code",
   "execution_count": 209,
   "id": "e2e0d357-afab-4290-b253-a3a4070be68d",
   "metadata": {},
   "outputs": [],
   "source": [
    "model.compile(optimizer='adam', loss='mse', metrics=['mae'])"
   ]
  },
  {
   "cell_type": "code",
   "execution_count": null,
   "id": "ce0151af-ab0f-4116-8b37-29bf9158e0c1",
   "metadata": {},
   "outputs": [],
   "source": [
    "# EarlyStopping\n",
    "early_stop = EarlyStopping(monitor='val_loss', patience=5, restore_best_weights=True)\n",
    "\n",
    "# REtrain\n",
    "history = model.fit(\n",
    "    X_train, y_train_scaled,\n",
    "    validation_data=(X_test, y_test_scaled),\n",
    "    batch_size=32,\n",
    "    epochs=30,  \n",
    "    verbose=1,\n",
    "    callbacks=[early_stop]\n",
    ")\n",
    "model.save('models/modelo_smilesV2.keras')"
   ]
  },
  {
   "cell_type": "code",
   "execution_count": null,
   "id": "faed46fe-91a7-4fa5-b391-fd9e3c845dbd",
   "metadata": {},
   "outputs": [],
   "source": [
    "loss, mae = model.evaluate(X_test, y_test_scaled)\n",
    "print(f'Mean Absolute Error: {mae:.4f}')"
   ]
  },
  {
   "cell_type": "code",
   "execution_count": null,
   "id": "08c82a52-c65d-4c6b-89bc-b2c31959eeb5",
   "metadata": {},
   "outputs": [],
   "source": [
    "# Predicting on the full test set\n",
    "predictions = model.predict(X_test)\n",
    "\n",
    "# Denormalize predictions (convert them to the original scale)\n",
    "predictions_original = scaler.inverse_transform(predictions)\n",
    "\n",
    "# Denormalize the real labels (y_test) so they are on the same scale\n",
    "y_test_original = scaler.inverse_transform(y_test_scaled)\n",
    "\n",
    "# Show some examples comparing the predictions with the real values\n",
    "import numpy as np\n",
    "for i in range(10): # Show only 10 examples\n",
    "    print(f\"Real: {y_test_original[i][0]:.4f} | Predicted: {predictions_original[i][0]:.4f}\")"
   ]
  },
  {
   "cell_type": "markdown",
   "id": "b095bc23-710e-40ba-97ed-57318458a673",
   "metadata": {},
   "source": [
    "### Architecture model modifaied\n",
    "\n",
    "Conv1D(64, kernel_size=3, activation=\"relu\") and GlobalMaxPooling1D() were remuved from original model."
   ]
  },
  {
   "cell_type": "code",
   "execution_count": 233,
   "id": "5bf0d70d-c2ae-4dde-afeb-75a61618ee42",
   "metadata": {},
   "outputs": [],
   "source": [
    "from tensorflow.keras import Sequential\n",
    "from tensorflow.keras.layers import Embedding, GRU, Dense, Dropout\n",
    "\n",
    "def build_model(vocab_size, max_length):\n",
    "    model = Sequential([\n",
    "        Embedding(input_dim=vocab_size, output_dim=128, input_shape=(max_length,)),\n",
    "        GRU(64, return_sequences=True),\n",
    "        Dropout(0.3),\n",
    "        GRU(32),\n",
    "        Dropout(0.3),\n",
    "        Dense(64, activation=\"relu\"),\n",
    "        Dropout(0.3),\n",
    "        Dense(1, activation=\"linear\")  # Para regresión\n",
    "    ])\n",
    "    return model\n"
   ]
  },
  {
   "cell_type": "code",
   "execution_count": 235,
   "id": "3c1bf2f3-d827-4b5c-86a9-7946d968ab51",
   "metadata": {},
   "outputs": [
    {
     "name": "stdout",
     "output_type": "stream",
     "text": [
      "Epoch 1/50\n",
      "\u001b[1m3799/3799\u001b[0m \u001b[32m━━━━━━━━━━━━━━━━━━━━\u001b[0m\u001b[37m\u001b[0m \u001b[1m800s\u001b[0m 209ms/step - loss: 3.1553e-04 - mae: 0.0105 - val_loss: 1.2992e-04 - val_mae: 0.0066\n",
      "Epoch 2/50\n",
      "\u001b[1m3799/3799\u001b[0m \u001b[32m━━━━━━━━━━━━━━━━━━━━\u001b[0m\u001b[37m\u001b[0m \u001b[1m1820s\u001b[0m 479ms/step - loss: 1.6438e-04 - mae: 0.0075 - val_loss: 1.0928e-04 - val_mae: 0.0067\n",
      "Epoch 3/50\n",
      "\u001b[1m3799/3799\u001b[0m \u001b[32m━━━━━━━━━━━━━━━━━━━━\u001b[0m\u001b[37m\u001b[0m \u001b[1m723s\u001b[0m 190ms/step - loss: 1.7940e-04 - mae: 0.0076 - val_loss: 9.1267e-05 - val_mae: 0.0059\n",
      "Epoch 4/50\n",
      "\u001b[1m3799/3799\u001b[0m \u001b[32m━━━━━━━━━━━━━━━━━━━━\u001b[0m\u001b[37m\u001b[0m \u001b[1m728s\u001b[0m 192ms/step - loss: 1.3972e-04 - mae: 0.0068 - val_loss: 8.5677e-05 - val_mae: 0.0056\n",
      "Epoch 5/50\n",
      "\u001b[1m3799/3799\u001b[0m \u001b[32m━━━━━━━━━━━━━━━━━━━━\u001b[0m\u001b[37m\u001b[0m \u001b[1m722s\u001b[0m 190ms/step - loss: 1.4639e-04 - mae: 0.0068 - val_loss: 8.8919e-05 - val_mae: 0.0055\n",
      "Epoch 6/50\n",
      "\u001b[1m3799/3799\u001b[0m \u001b[32m━━━━━━━━━━━━━━━━━━━━\u001b[0m\u001b[37m\u001b[0m \u001b[1m705s\u001b[0m 186ms/step - loss: 1.2118e-04 - mae: 0.0064 - val_loss: 9.3603e-05 - val_mae: 0.0059\n",
      "Epoch 7/50\n",
      "\u001b[1m3799/3799\u001b[0m \u001b[32m━━━━━━━━━━━━━━━━━━━━\u001b[0m\u001b[37m\u001b[0m \u001b[1m1100s\u001b[0m 290ms/step - loss: 1.2784e-04 - mae: 0.0064 - val_loss: 8.8736e-05 - val_mae: 0.0058\n",
      "Epoch 8/50\n",
      "\u001b[1m3799/3799\u001b[0m \u001b[32m━━━━━━━━━━━━━━━━━━━━\u001b[0m\u001b[37m\u001b[0m \u001b[1m788s\u001b[0m 207ms/step - loss: 1.3076e-04 - mae: 0.0064 - val_loss: 8.7256e-05 - val_mae: 0.0060\n",
      "Epoch 9/50\n",
      "\u001b[1m3799/3799\u001b[0m \u001b[32m━━━━━━━━━━━━━━━━━━━━\u001b[0m\u001b[37m\u001b[0m \u001b[1m689s\u001b[0m 181ms/step - loss: 1.2101e-04 - mae: 0.0062 - val_loss: 9.9840e-05 - val_mae: 0.0069\n"
     ]
    }
   ],
   "source": [
    "from tensorflow.keras.callbacks import EarlyStopping\n",
    "\n",
    "# Use EarlyStopping to prevent overfitting\n",
    "early_stop = EarlyStopping(monitor='val_loss', patience=5, restore_best_weights=True)\n",
    "\n",
    "# Train the model\n",
    "history = model.fit(\n",
    "    X_train, y_train_scaled,\n",
    "    validation_data=(X_test, y_test_scaled),\n",
    "    batch_size=32,\n",
    "    epochs=50,\n",
    "    verbose=1,\n",
    "    callbacks=[early_stop])\n",
    "\n",
    "model.save('modelo_smilesDropout.keras')"
   ]
  },
  {
   "cell_type": "code",
   "execution_count": 237,
   "id": "d6eeeda5-30fe-4691-b735-0da39e6e9665",
   "metadata": {},
   "outputs": [
    {
     "name": "stdout",
     "output_type": "stream",
     "text": [
      "\u001b[1m950/950\u001b[0m \u001b[32m━━━━━━━━━━━━━━━━━━━━\u001b[0m\u001b[37m\u001b[0m \u001b[1m39s\u001b[0m 41ms/step - loss: 9.6839e-05 - mae: 0.0056\n",
      "Mean Absolute Error: 0.0056\n"
     ]
    }
   ],
   "source": [
    "loss, mae = model.evaluate(X_test, y_test_scaled)\n",
    "print(f'Mean Absolute Error: {mae:.4f}')"
   ]
  },
  {
   "cell_type": "code",
   "execution_count": 239,
   "id": "c8aeec53-fa38-441a-89ea-2a6d80e8e714",
   "metadata": {},
   "outputs": [
    {
     "name": "stdout",
     "output_type": "stream",
     "text": [
      "\u001b[1m950/950\u001b[0m \u001b[32m━━━━━━━━━━━━━━━━━━━━\u001b[0m\u001b[37m\u001b[0m \u001b[1m40s\u001b[0m 42ms/step\n",
      "Real: 82.2000 | Predicted: 111.2172\n",
      "Real: 94.6000 | Predicted: 94.3297\n",
      "Real: 96.1000 | Predicted: 104.5788\n",
      "Real: 107.0000 | Predicted: 117.1273\n",
      "Real: 131.0000 | Predicted: 150.0210\n",
      "Real: 107.0000 | Predicted: 89.4104\n",
      "Real: 132.0000 | Predicted: 116.1707\n",
      "Real: 114.0000 | Predicted: 125.1038\n",
      "Real: 76.3000 | Predicted: 116.1147\n",
      "Real: 73.5000 | Predicted: 78.3180\n"
     ]
    }
   ],
   "source": [
    "# Predicting on the full test set\n",
    "predictions = model.predict(X_test)\n",
    "\n",
    "# Denormalize predictions (convert them to the original scale)\n",
    "predictions_original = scaler.inverse_transform(predictions)\n",
    "\n",
    "# Denormalize the real labels (y_test) so they are on the same scale\n",
    "y_test_original = scaler.inverse_transform(y_test_scaled)\n",
    "\n",
    "# Show some examples comparing the predictions with the real values\n",
    "import numpy as np\n",
    "for i in range(10): # Show only 10 examples\n",
    "    print(f\"Real: {y_test_original[i][0]:.4f} | Predicted: {predictions_original[i][0]:.4f}\")"
   ]
  },
  {
   "cell_type": "code",
   "execution_count": 241,
   "id": "1d7f6363-97dd-425c-a2fd-a887ae2a60dd",
   "metadata": {},
   "outputs": [
    {
     "data": {
      "image/png": "[encoded data removed]",
      "text/plain": [
       "<Figure size 600x600 with 1 Axes>"
      ]
     },
     "metadata": {},
     "output_type": "display_data"
    }
   ],
   "source": [
    "# Create the plot\n",
    "plt.figure(figsize=(6, 6))\n",
    "\n",
    "\n",
    "# Plot Test\n",
    "plt.scatter(y_test_original, predictions_original, label='Test', alpha=0.7)\n",
    "\n",
    "# Línea y = x\n",
    "min_val = min(np.min(y_test_original), np.min(predictions_original))\n",
    "max_val = max(np.max(y_test_original), np.max(predictions_original))\n",
    "plt.plot([min_val, max_val], [min_val, max_val], 'k--',label='Target', alpha=0.8)\n",
    "\n",
    "# Línea de regresión ajustada\n",
    "sns.regplot(x=y_test_original, y=predictions_original, scatter=False)\n",
    "\n",
    "plt.xlabel('Target Value')\n",
    "plt.ylabel('Predicted Value')\n",
    "plt.title('Scatter diagram for Polar Area prediction')\n",
    "plt.legend()\n",
    "plt.grid(False)\n",
    "plt.tight_layout()\n",
    "\n",
    "plt.show()"
   ]
  },
  {
   "cell_type": "markdown",
   "id": "9d1ae787-506b-493d-beac-e9c41ed19982",
   "metadata": {},
   "source": [
    "## Other data\n",
    "\n",
    "This data as used to compare our model results with one already reported. The same dataset was used.\n",
    "Dhandekar, P., Joseph, M., 2022. Ensemble Creation via Anchored Regularization for Unsupervised Aspect Extraction. "
   ]
  },
  {
   "cell_type": "code",
   "execution_count": 121,
   "id": "58ba694f-6418-47d4-9a40-3a312ad3173b",
   "metadata": {},
   "outputs": [],
   "source": [
    "df2=pd.read_csv('lipophilicity_clean_dataset.csv')"
   ]
  },
  {
   "cell_type": "code",
   "execution_count": 123,
   "id": "f1208c6e-fea2-475f-9baf-ec4e76fe9c3b",
   "metadata": {
    "jp-MarkdownHeadingCollapsed": true
   },
   "outputs": [
    {
     "data": {
      "text/html": [
       "<div>\n",
       "<style scoped>\n",
       "    .dataframe tbody tr th:only-of-type {\n",
       "        vertical-align: middle;\n",
       "    }\n",
       "\n",
       "    .dataframe tbody tr th {\n",
       "        vertical-align: top;\n",
       "    }\n",
       "\n",
       "    .dataframe thead th {\n",
       "        text-align: right;\n",
       "    }\n",
       "</style>\n",
       "<table border=\"1\" class=\"dataframe\">\n",
       "  <thead>\n",
       "    <tr style=\"text-align: right;\">\n",
       "      <th></th>\n",
       "      <th>ChEMBL ID</th>\n",
       "      <th>Name</th>\n",
       "      <th>Synonyms</th>\n",
       "      <th>Type</th>\n",
       "      <th>Max Phase</th>\n",
       "      <th>Molecular Weight</th>\n",
       "      <th>Targets</th>\n",
       "      <th>Bioactivities</th>\n",
       "      <th>AlogP</th>\n",
       "      <th>Polar Surface Area</th>\n",
       "      <th>Molecular Formula</th>\n",
       "      <th>Smiles</th>\n",
       "      <th>Inchi Key</th>\n",
       "      <th>Inchi</th>\n",
       "      <th>Withdrawn Flag</th>\n",
       "      <th>Orphan</th>\n",
       "    </tr>\n",
       "  </thead>\n",
       "  <tbody>\n",
       "    <tr>\n",
       "      <th>0</th>\n",
       "      <td>CHEMBL48361</td>\n",
       "      <td>DABIGATRAN</td>\n",
       "      <td>BIBR 953 ZW|BIBR-953|BIBR-953-ZW|DABIGATRAN|PR...</td>\n",
       "      <td>Small molecule</td>\n",
       "      <td>3.0</td>\n",
       "      <td>471.52</td>\n",
       "      <td>88</td>\n",
       "      <td>164</td>\n",
       "      <td>2.99</td>\n",
       "      <td>150.22</td>\n",
       "      <td>C25H25N7O3</td>\n",
       "      <td>Cn1c(CNc2ccc(C(=N)N)cc2)nc2cc(C(=O)N(CCC(=O)O)...</td>\n",
       "      <td>YBSJFWOBGCMAKL-UHFFFAOYSA-N</td>\n",
       "      <td>InChI=1S/C25H25N7O3/c1-31-20-10-7-17(25(35)32(...</td>\n",
       "      <td>False</td>\n",
       "      <td>0</td>\n",
       "    </tr>\n",
       "    <tr>\n",
       "      <th>1</th>\n",
       "      <td>CHEMBL878</td>\n",
       "      <td>METOLAZONE</td>\n",
       "      <td>DIULO|METAZOLINE|METENIX|METOLAZONA|METOLAZONE...</td>\n",
       "      <td>Small molecule</td>\n",
       "      <td>4.0</td>\n",
       "      <td>365.84</td>\n",
       "      <td>165</td>\n",
       "      <td>562</td>\n",
       "      <td>2.71</td>\n",
       "      <td>92.50</td>\n",
       "      <td>C16H16ClN3O3S</td>\n",
       "      <td>Cc1ccccc1N1C(=O)c2cc(S(N)(=O)=O)c(Cl)cc2NC1C</td>\n",
       "      <td>AQCHWTWZEMGIFD-UHFFFAOYSA-N</td>\n",
       "      <td>InChI=1S/C16H16ClN3O3S/c1-9-5-3-4-6-14(9)20-10...</td>\n",
       "      <td>False</td>\n",
       "      <td>0</td>\n",
       "    </tr>\n",
       "    <tr>\n",
       "      <th>2</th>\n",
       "      <td>CHEMBL1088752</td>\n",
       "      <td>LOSMAPIMOD</td>\n",
       "      <td>FTX-1821|FTX1821|GSK-AHAB|GSKAHAB|GW-856553|GW...</td>\n",
       "      <td>Small molecule</td>\n",
       "      <td>3.0</td>\n",
       "      <td>383.47</td>\n",
       "      <td>306</td>\n",
       "      <td>358</td>\n",
       "      <td>3.86</td>\n",
       "      <td>71.09</td>\n",
       "      <td>C22H26FN3O2</td>\n",
       "      <td>Cc1c(F)cc(C(=O)NC2CC2)cc1-c1ccc(C(=O)NCC(C)(C)...</td>\n",
       "      <td>KKYABQBFGDZVNQ-UHFFFAOYSA-N</td>\n",
       "      <td>InChI=1S/C22H26FN3O2/c1-13-17(9-15(10-18(13)23...</td>\n",
       "      <td>False</td>\n",
       "      <td>0</td>\n",
       "    </tr>\n",
       "    <tr>\n",
       "      <th>3</th>\n",
       "      <td>CHEMBL1201</td>\n",
       "      <td>THIOTHIXENE</td>\n",
       "      <td>(Z)-THIOTHIXENE|CIS-THIOTHIXENE|CP-12252-1|NAV...</td>\n",
       "      <td>Small molecule</td>\n",
       "      <td>4.0</td>\n",
       "      <td>443.64</td>\n",
       "      <td>117</td>\n",
       "      <td>214</td>\n",
       "      <td>3.47</td>\n",
       "      <td>43.86</td>\n",
       "      <td>C23H29N3O2S2</td>\n",
       "      <td>CN1CCN(CC/C=C2/c3ccccc3Sc3ccc(S(=O)(=O)N(C)C)c...</td>\n",
       "      <td>GFBKORZTTCHDGY-UWVJOHFNSA-N</td>\n",
       "      <td>InChI=1S/C23H29N3O2S2/c1-24(2)30(27,28)18-10-1...</td>\n",
       "      <td>False</td>\n",
       "      <td>0</td>\n",
       "    </tr>\n",
       "    <tr>\n",
       "      <th>4</th>\n",
       "      <td>CHEMBL407</td>\n",
       "      <td>FLUMAZENIL</td>\n",
       "      <td>ANEXATE|FLUMAZENIL|FLUMAZEPIL|Flumazepil|LANEX...</td>\n",
       "      <td>Small molecule</td>\n",
       "      <td>4.0</td>\n",
       "      <td>303.29</td>\n",
       "      <td>221</td>\n",
       "      <td>778</td>\n",
       "      <td>1.77</td>\n",
       "      <td>64.43</td>\n",
       "      <td>C15H14FN3O3</td>\n",
       "      <td>CCOC(=O)c1ncn2c1CN(C)C(=O)c1cc(F)ccc1-2</td>\n",
       "      <td>OFBIFZUFASYYRE-UHFFFAOYSA-N</td>\n",
       "      <td>InChI=1S/C15H14FN3O3/c1-3-22-15(21)13-12-7-18(...</td>\n",
       "      <td>False</td>\n",
       "      <td>0</td>\n",
       "    </tr>\n",
       "  </tbody>\n",
       "</table>\n",
       "</div>"
      ],
      "text/plain": [
       "       ChEMBL ID         Name  \\\n",
       "0    CHEMBL48361   DABIGATRAN   \n",
       "1      CHEMBL878   METOLAZONE   \n",
       "2  CHEMBL1088752   LOSMAPIMOD   \n",
       "3     CHEMBL1201  THIOTHIXENE   \n",
       "4      CHEMBL407   FLUMAZENIL   \n",
       "\n",
       "                                            Synonyms            Type  \\\n",
       "0  BIBR 953 ZW|BIBR-953|BIBR-953-ZW|DABIGATRAN|PR...  Small molecule   \n",
       "1  DIULO|METAZOLINE|METENIX|METOLAZONA|METOLAZONE...  Small molecule   \n",
       "2  FTX-1821|FTX1821|GSK-AHAB|GSKAHAB|GW-856553|GW...  Small molecule   \n",
       "3  (Z)-THIOTHIXENE|CIS-THIOTHIXENE|CP-12252-1|NAV...  Small molecule   \n",
       "4  ANEXATE|FLUMAZENIL|FLUMAZEPIL|Flumazepil|LANEX...  Small molecule   \n",
       "\n",
       "   Max Phase  Molecular Weight  Targets  Bioactivities  AlogP  \\\n",
       "0        3.0            471.52       88            164   2.99   \n",
       "1        4.0            365.84      165            562   2.71   \n",
       "2        3.0            383.47      306            358   3.86   \n",
       "3        4.0            443.64      117            214   3.47   \n",
       "4        4.0            303.29      221            778   1.77   \n",
       "\n",
       "   Polar Surface Area Molecular Formula  \\\n",
       "0              150.22        C25H25N7O3   \n",
       "1               92.50     C16H16ClN3O3S   \n",
       "2               71.09       C22H26FN3O2   \n",
       "3               43.86      C23H29N3O2S2   \n",
       "4               64.43       C15H14FN3O3   \n",
       "\n",
       "                                              Smiles  \\\n",
       "0  Cn1c(CNc2ccc(C(=N)N)cc2)nc2cc(C(=O)N(CCC(=O)O)...   \n",
       "1       Cc1ccccc1N1C(=O)c2cc(S(N)(=O)=O)c(Cl)cc2NC1C   \n",
       "2  Cc1c(F)cc(C(=O)NC2CC2)cc1-c1ccc(C(=O)NCC(C)(C)...   \n",
       "3  CN1CCN(CC/C=C2/c3ccccc3Sc3ccc(S(=O)(=O)N(C)C)c...   \n",
       "4            CCOC(=O)c1ncn2c1CN(C)C(=O)c1cc(F)ccc1-2   \n",
       "\n",
       "                     Inchi Key  \\\n",
       "0  YBSJFWOBGCMAKL-UHFFFAOYSA-N   \n",
       "1  AQCHWTWZEMGIFD-UHFFFAOYSA-N   \n",
       "2  KKYABQBFGDZVNQ-UHFFFAOYSA-N   \n",
       "3  GFBKORZTTCHDGY-UWVJOHFNSA-N   \n",
       "4  OFBIFZUFASYYRE-UHFFFAOYSA-N   \n",
       "\n",
       "                                               Inchi  Withdrawn Flag  Orphan  \n",
       "0  InChI=1S/C25H25N7O3/c1-31-20-10-7-17(25(35)32(...           False       0  \n",
       "1  InChI=1S/C16H16ClN3O3S/c1-9-5-3-4-6-14(9)20-10...           False       0  \n",
       "2  InChI=1S/C22H26FN3O2/c1-13-17(9-15(10-18(13)23...           False       0  \n",
       "3  InChI=1S/C23H29N3O2S2/c1-24(2)30(27,28)18-10-1...           False       0  \n",
       "4  InChI=1S/C15H14FN3O3/c1-3-22-15(21)13-12-7-18(...           False       0  "
      ]
     },
     "execution_count": 123,
     "metadata": {},
     "output_type": "execute_result"
    }
   ],
   "source": [
    "df2.head()"
   ]
  },
  {
   "cell_type": "code",
   "execution_count": 125,
   "id": "0ebb0c20-a5a0-4fe0-b31f-dbe87b685571",
   "metadata": {},
   "outputs": [
    {
     "data": {
      "text/html": [
       "<div>\n",
       "<style scoped>\n",
       "    .dataframe tbody tr th:only-of-type {\n",
       "        vertical-align: middle;\n",
       "    }\n",
       "\n",
       "    .dataframe tbody tr th {\n",
       "        vertical-align: top;\n",
       "    }\n",
       "\n",
       "    .dataframe thead th {\n",
       "        text-align: right;\n",
       "    }\n",
       "</style>\n",
       "<table border=\"1\" class=\"dataframe\">\n",
       "  <thead>\n",
       "    <tr style=\"text-align: right;\">\n",
       "      <th></th>\n",
       "      <th>Smiles</th>\n",
       "      <th>AlogP</th>\n",
       "    </tr>\n",
       "  </thead>\n",
       "  <tbody>\n",
       "    <tr>\n",
       "      <th>0</th>\n",
       "      <td>Cn1c(CNc2ccc(C(=N)N)cc2)nc2cc(C(=O)N(CCC(=O)O)...</td>\n",
       "      <td>2.99</td>\n",
       "    </tr>\n",
       "    <tr>\n",
       "      <th>1</th>\n",
       "      <td>Cc1ccccc1N1C(=O)c2cc(S(N)(=O)=O)c(Cl)cc2NC1C</td>\n",
       "      <td>2.71</td>\n",
       "    </tr>\n",
       "    <tr>\n",
       "      <th>2</th>\n",
       "      <td>Cc1c(F)cc(C(=O)NC2CC2)cc1-c1ccc(C(=O)NCC(C)(C)...</td>\n",
       "      <td>3.86</td>\n",
       "    </tr>\n",
       "    <tr>\n",
       "      <th>3</th>\n",
       "      <td>CN1CCN(CC/C=C2/c3ccccc3Sc3ccc(S(=O)(=O)N(C)C)c...</td>\n",
       "      <td>3.47</td>\n",
       "    </tr>\n",
       "    <tr>\n",
       "      <th>4</th>\n",
       "      <td>CCOC(=O)c1ncn2c1CN(C)C(=O)c1cc(F)ccc1-2</td>\n",
       "      <td>1.77</td>\n",
       "    </tr>\n",
       "  </tbody>\n",
       "</table>\n",
       "</div>"
      ],
      "text/plain": [
       "                                              Smiles  AlogP\n",
       "0  Cn1c(CNc2ccc(C(=N)N)cc2)nc2cc(C(=O)N(CCC(=O)O)...   2.99\n",
       "1       Cc1ccccc1N1C(=O)c2cc(S(N)(=O)=O)c(Cl)cc2NC1C   2.71\n",
       "2  Cc1c(F)cc(C(=O)NC2CC2)cc1-c1ccc(C(=O)NCC(C)(C)...   3.86\n",
       "3  CN1CCN(CC/C=C2/c3ccccc3Sc3ccc(S(=O)(=O)N(C)C)c...   3.47\n",
       "4            CCOC(=O)c1ncn2c1CN(C)C(=O)c1cc(F)ccc1-2   1.77"
      ]
     },
     "execution_count": 125,
     "metadata": {},
     "output_type": "execute_result"
    }
   ],
   "source": [
    "df_lipo = df2[[\"Smiles\", \"AlogP\"]].dropna()  # Keep only SMILES & AlogP columns\n",
    "df_lipo.head()"
   ]
  },
  {
   "cell_type": "code",
   "execution_count": 127,
   "id": "b2573fb1-5da1-4e51-b6eb-22bc69a1ad67",
   "metadata": {},
   "outputs": [
    {
     "name": "stdout",
     "output_type": "stream",
     "text": [
      "Number of invalid SMILES: 0 out of 5458\n",
      "5458 valid SMILES remaining.\n",
      "Cleaned file saved as 'cleaned_smiles2.csv'.\n"
     ]
    }
   ],
   "source": [
    "# 1. Check if the 'smiles' column exists\n",
    "if 'Smiles' in df_lipo.columns:\n",
    "    \n",
    "    # 2. Create the 'mol' column with RDKit molecule objects\n",
    "    df_lipo['mol'] = df_lipo['Smiles'].apply(lambda x: Chem.MolFromSmiles(x))\n",
    "    \n",
    "    # 3. Count invalid SMILES\n",
    "    n_invalid = df_lipo['mol'].isnull().sum()\n",
    "    print(f\"Number of invalid SMILES: {n_invalid} out of {len(df_lipo)}\")\n",
    "\n",
    "    # 4. Remove invalid SMILES\n",
    "    df_clean2 = df_lipo.dropna(subset=['mol']).copy()\n",
    "    print(f\"{len(df_clean2)} valid SMILES remaining.\")\n",
    "\n",
    "    # 5. Optional: Save the cleaned DataFrame\n",
    "    df_clean2.to_csv('cleaned_smiles2.csv', index=False)\n",
    "    print(\"Cleaned file saved as 'cleaned_smiles2.csv'.\")\n",
    "\n",
    "else:\n",
    "    print(\"❌ Error: 'smiles' column does not exist in the DataFrame.\")"
   ]
  },
  {
   "cell_type": "code",
   "execution_count": 128,
   "id": "93d76e5a-f9c1-493b-9630-ffa94475b7bc",
   "metadata": {},
   "outputs": [],
   "source": [
    "from sklearn.model_selection import train_test_split\n",
    "\n",
    "# 1. Build vocabulary of unique characters in SMILES\n",
    "unique_chars = sorted(set(\"\".join(df_clean2[\"Smiles\"])))\n",
    "char_to_index = {char: idx + 1 for idx, char in enumerate(unique_chars)}\n",
    "char_to_index[\"PAD\"] = 0  # Padding token\n",
    "\n",
    "# 2. Determine maximum sequence length\n",
    "max_length = df_clean2[\"Smiles\"].str.len().max()\n",
    "\n",
    "# 3. Function to encode SMILES into sequences of indices\n",
    "def encode_smiles(smiles):\n",
    "    sequence = [char_to_index[char] for char in smiles]\n",
    "    padding = [0] * (max_length - len(sequence))\n",
    "    return sequence + padding\n",
    "\n",
    "# 4. Apply encoding to the dataset\n",
    "df_clean2[\"SMILES_seq\"] = df_clean2[\"Smiles\"].apply(encode_smiles)\n",
    "\n",
    "# 5. Convert to numpy arrays\n",
    "X2 = np.vstack(df_clean2[\"SMILES_seq\"].values)\n",
    "y2 = df_clean2[\"AlogP\"].values\n",
    "\n",
    "# 6. Train/test split\n",
    "X2_train, X2_test, y2_train, y2_test = train_test_split(\n",
    "    X2, y2, test_size=0.2, random_state=42\n",
    ")"
   ]
  },
  {
   "cell_type": "code",
   "execution_count": 131,
   "id": "2b42b651-00f0-4ff5-a163-0fbe8382e7db",
   "metadata": {},
   "outputs": [
    {
     "name": "stdout",
     "output_type": "stream",
     "text": [
      "X2_train: (4366, 190, 1),X2_test: (1092, 190, 1) \n"
     ]
    }
   ],
   "source": [
    "X2_train = X2_train.reshape((X2_train.shape[0], X2_train.shape[1], 1))\n",
    "X2_test = X2_test.reshape((X2_test.shape[0], X2_test.shape[1], 1))\n",
    "print(f\"X2_train: {X2_train.shape},X2_test: {X2_test.shape} \")"
   ]
  },
  {
   "cell_type": "code",
   "execution_count": 133,
   "id": "c1906566-ba10-4d6e-91df-36249e1a01bd",
   "metadata": {},
   "outputs": [
    {
     "name": "stdout",
     "output_type": "stream",
     "text": [
      "After normalization: min=0.0, max=0.9999999999999999\n"
     ]
    }
   ],
   "source": [
    "from sklearn.preprocessing import MinMaxScaler\n",
    "\n",
    "scaler = MinMaxScaler()\n",
    "y2_train_scaled = scaler.fit_transform(y2_train.reshape(-1, 1))\n",
    "y2_test_scaled = scaler.transform(y2_test.reshape(-1, 1))\n",
    "\n",
    "\n",
    "\n",
    "# Print min and max to verify normalization\n",
    "print(f\"After normalization: min={y2_train_scaled.min()}, max={y2_train_scaled.max()}\")"
   ]
  },
  {
   "cell_type": "code",
   "execution_count": 135,
   "id": "aacd9362-3e0f-492f-a0bf-21615c8fd84f",
   "metadata": {},
   "outputs": [
    {
     "name": "stderr",
     "output_type": "stream",
     "text": [
      "C:\\Users\\romin\\anaconda3\\Lib\\site-packages\\keras\\src\\layers\\core\\embedding.py:93: UserWarning: Do not pass an `input_shape`/`input_dim` argument to a layer. When using Sequential models, prefer using an `Input(shape)` object as the first layer in the model instead.\n",
      "  super().__init__(**kwargs)\n"
     ]
    },
    {
     "data": {
      "text/html": [
       "<pre style=\"white-space:pre;overflow-x:auto;line-height:normal;font-family:Menlo,'DejaVu Sans Mono',consolas,'Courier New',monospace\"><span style=\"font-weight: bold\">Model: \"sequential_3\"</span>\n",
       "</pre>\n"
      ],
      "text/plain": [
       "\u001b[1mModel: \"sequential_3\"\u001b[0m\n"
      ]
     },
     "metadata": {},
     "output_type": "display_data"
    },
    {
     "data": {
      "text/html": [
       "<pre style=\"white-space:pre;overflow-x:auto;line-height:normal;font-family:Menlo,'DejaVu Sans Mono',consolas,'Courier New',monospace\">┏━━━━━━━━━━━━━━━━━━━━━━━━━━━━━━━━━┳━━━━━━━━━━━━━━━━━━━━━━━━┳━━━━━━━━━━━━━━━┓\n",
       "┃<span style=\"font-weight: bold\"> Layer (type)                    </span>┃<span style=\"font-weight: bold\"> Output Shape           </span>┃<span style=\"font-weight: bold\">       Param # </span>┃\n",
       "┡━━━━━━━━━━━━━━━━━━━━━━━━━━━━━━━━━╇━━━━━━━━━━━━━━━━━━━━━━━━╇━━━━━━━━━━━━━━━┩\n",
       "│ embedding_3 (<span style=\"color: #0087ff; text-decoration-color: #0087ff\">Embedding</span>)         │ (<span style=\"color: #00d7ff; text-decoration-color: #00d7ff\">None</span>, <span style=\"color: #00af00; text-decoration-color: #00af00\">190</span>, <span style=\"color: #00af00; text-decoration-color: #00af00\">128</span>)       │         <span style=\"color: #00af00; text-decoration-color: #00af00\">4,352</span> │\n",
       "├─────────────────────────────────┼────────────────────────┼───────────────┤\n",
       "│ conv1d_3 (<span style=\"color: #0087ff; text-decoration-color: #0087ff\">Conv1D</span>)               │ (<span style=\"color: #00d7ff; text-decoration-color: #00d7ff\">None</span>, <span style=\"color: #00af00; text-decoration-color: #00af00\">188</span>, <span style=\"color: #00af00; text-decoration-color: #00af00\">64</span>)        │        <span style=\"color: #00af00; text-decoration-color: #00af00\">24,640</span> │\n",
       "├─────────────────────────────────┼────────────────────────┼───────────────┤\n",
       "│ global_max_pooling1d_3          │ (<span style=\"color: #00d7ff; text-decoration-color: #00d7ff\">None</span>, <span style=\"color: #00af00; text-decoration-color: #00af00\">64</span>)             │             <span style=\"color: #00af00; text-decoration-color: #00af00\">0</span> │\n",
       "│ (<span style=\"color: #0087ff; text-decoration-color: #0087ff\">GlobalMaxPooling1D</span>)            │                        │               │\n",
       "├─────────────────────────────────┼────────────────────────┼───────────────┤\n",
       "│ reshape_3 (<span style=\"color: #0087ff; text-decoration-color: #0087ff\">Reshape</span>)             │ (<span style=\"color: #00d7ff; text-decoration-color: #00d7ff\">None</span>, <span style=\"color: #00af00; text-decoration-color: #00af00\">64</span>, <span style=\"color: #00af00; text-decoration-color: #00af00\">1</span>)          │             <span style=\"color: #00af00; text-decoration-color: #00af00\">0</span> │\n",
       "├─────────────────────────────────┼────────────────────────┼───────────────┤\n",
       "│ gru_6 (<span style=\"color: #0087ff; text-decoration-color: #0087ff\">GRU</span>)                     │ (<span style=\"color: #00d7ff; text-decoration-color: #00d7ff\">None</span>, <span style=\"color: #00af00; text-decoration-color: #00af00\">64</span>, <span style=\"color: #00af00; text-decoration-color: #00af00\">64</span>)         │        <span style=\"color: #00af00; text-decoration-color: #00af00\">12,864</span> │\n",
       "├─────────────────────────────────┼────────────────────────┼───────────────┤\n",
       "│ gru_7 (<span style=\"color: #0087ff; text-decoration-color: #0087ff\">GRU</span>)                     │ (<span style=\"color: #00d7ff; text-decoration-color: #00d7ff\">None</span>, <span style=\"color: #00af00; text-decoration-color: #00af00\">32</span>)             │         <span style=\"color: #00af00; text-decoration-color: #00af00\">9,408</span> │\n",
       "├─────────────────────────────────┼────────────────────────┼───────────────┤\n",
       "│ dense_9 (<span style=\"color: #0087ff; text-decoration-color: #0087ff\">Dense</span>)                 │ (<span style=\"color: #00d7ff; text-decoration-color: #00d7ff\">None</span>, <span style=\"color: #00af00; text-decoration-color: #00af00\">64</span>)             │         <span style=\"color: #00af00; text-decoration-color: #00af00\">2,112</span> │\n",
       "├─────────────────────────────────┼────────────────────────┼───────────────┤\n",
       "│ dropout_6 (<span style=\"color: #0087ff; text-decoration-color: #0087ff\">Dropout</span>)             │ (<span style=\"color: #00d7ff; text-decoration-color: #00d7ff\">None</span>, <span style=\"color: #00af00; text-decoration-color: #00af00\">64</span>)             │             <span style=\"color: #00af00; text-decoration-color: #00af00\">0</span> │\n",
       "├─────────────────────────────────┼────────────────────────┼───────────────┤\n",
       "│ dense_10 (<span style=\"color: #0087ff; text-decoration-color: #0087ff\">Dense</span>)                │ (<span style=\"color: #00d7ff; text-decoration-color: #00d7ff\">None</span>, <span style=\"color: #00af00; text-decoration-color: #00af00\">32</span>)             │         <span style=\"color: #00af00; text-decoration-color: #00af00\">2,080</span> │\n",
       "├─────────────────────────────────┼────────────────────────┼───────────────┤\n",
       "│ dropout_7 (<span style=\"color: #0087ff; text-decoration-color: #0087ff\">Dropout</span>)             │ (<span style=\"color: #00d7ff; text-decoration-color: #00d7ff\">None</span>, <span style=\"color: #00af00; text-decoration-color: #00af00\">32</span>)             │             <span style=\"color: #00af00; text-decoration-color: #00af00\">0</span> │\n",
       "├─────────────────────────────────┼────────────────────────┼───────────────┤\n",
       "│ dense_11 (<span style=\"color: #0087ff; text-decoration-color: #0087ff\">Dense</span>)                │ (<span style=\"color: #00d7ff; text-decoration-color: #00d7ff\">None</span>, <span style=\"color: #00af00; text-decoration-color: #00af00\">1</span>)              │            <span style=\"color: #00af00; text-decoration-color: #00af00\">33</span> │\n",
       "└─────────────────────────────────┴────────────────────────┴───────────────┘\n",
       "</pre>\n"
      ],
      "text/plain": [
       "┏━━━━━━━━━━━━━━━━━━━━━━━━━━━━━━━━━┳━━━━━━━━━━━━━━━━━━━━━━━━┳━━━━━━━━━━━━━━━┓\n",
       "┃\u001b[1m \u001b[0m\u001b[1mLayer (type)                   \u001b[0m\u001b[1m \u001b[0m┃\u001b[1m \u001b[0m\u001b[1mOutput Shape          \u001b[0m\u001b[1m \u001b[0m┃\u001b[1m \u001b[0m\u001b[1m      Param #\u001b[0m\u001b[1m \u001b[0m┃\n",
       "┡━━━━━━━━━━━━━━━━━━━━━━━━━━━━━━━━━╇━━━━━━━━━━━━━━━━━━━━━━━━╇━━━━━━━━━━━━━━━┩\n",
       "│ embedding_3 (\u001b[38;5;33mEmbedding\u001b[0m)         │ (\u001b[38;5;45mNone\u001b[0m, \u001b[38;5;34m190\u001b[0m, \u001b[38;5;34m128\u001b[0m)       │         \u001b[38;5;34m4,352\u001b[0m │\n",
       "├─────────────────────────────────┼────────────────────────┼───────────────┤\n",
       "│ conv1d_3 (\u001b[38;5;33mConv1D\u001b[0m)               │ (\u001b[38;5;45mNone\u001b[0m, \u001b[38;5;34m188\u001b[0m, \u001b[38;5;34m64\u001b[0m)        │        \u001b[38;5;34m24,640\u001b[0m │\n",
       "├─────────────────────────────────┼────────────────────────┼───────────────┤\n",
       "│ global_max_pooling1d_3          │ (\u001b[38;5;45mNone\u001b[0m, \u001b[38;5;34m64\u001b[0m)             │             \u001b[38;5;34m0\u001b[0m │\n",
       "│ (\u001b[38;5;33mGlobalMaxPooling1D\u001b[0m)            │                        │               │\n",
       "├─────────────────────────────────┼────────────────────────┼───────────────┤\n",
       "│ reshape_3 (\u001b[38;5;33mReshape\u001b[0m)             │ (\u001b[38;5;45mNone\u001b[0m, \u001b[38;5;34m64\u001b[0m, \u001b[38;5;34m1\u001b[0m)          │             \u001b[38;5;34m0\u001b[0m │\n",
       "├─────────────────────────────────┼────────────────────────┼───────────────┤\n",
       "│ gru_6 (\u001b[38;5;33mGRU\u001b[0m)                     │ (\u001b[38;5;45mNone\u001b[0m, \u001b[38;5;34m64\u001b[0m, \u001b[38;5;34m64\u001b[0m)         │        \u001b[38;5;34m12,864\u001b[0m │\n",
       "├─────────────────────────────────┼────────────────────────┼───────────────┤\n",
       "│ gru_7 (\u001b[38;5;33mGRU\u001b[0m)                     │ (\u001b[38;5;45mNone\u001b[0m, \u001b[38;5;34m32\u001b[0m)             │         \u001b[38;5;34m9,408\u001b[0m │\n",
       "├─────────────────────────────────┼────────────────────────┼───────────────┤\n",
       "│ dense_9 (\u001b[38;5;33mDense\u001b[0m)                 │ (\u001b[38;5;45mNone\u001b[0m, \u001b[38;5;34m64\u001b[0m)             │         \u001b[38;5;34m2,112\u001b[0m │\n",
       "├─────────────────────────────────┼────────────────────────┼───────────────┤\n",
       "│ dropout_6 (\u001b[38;5;33mDropout\u001b[0m)             │ (\u001b[38;5;45mNone\u001b[0m, \u001b[38;5;34m64\u001b[0m)             │             \u001b[38;5;34m0\u001b[0m │\n",
       "├─────────────────────────────────┼────────────────────────┼───────────────┤\n",
       "│ dense_10 (\u001b[38;5;33mDense\u001b[0m)                │ (\u001b[38;5;45mNone\u001b[0m, \u001b[38;5;34m32\u001b[0m)             │         \u001b[38;5;34m2,080\u001b[0m │\n",
       "├─────────────────────────────────┼────────────────────────┼───────────────┤\n",
       "│ dropout_7 (\u001b[38;5;33mDropout\u001b[0m)             │ (\u001b[38;5;45mNone\u001b[0m, \u001b[38;5;34m32\u001b[0m)             │             \u001b[38;5;34m0\u001b[0m │\n",
       "├─────────────────────────────────┼────────────────────────┼───────────────┤\n",
       "│ dense_11 (\u001b[38;5;33mDense\u001b[0m)                │ (\u001b[38;5;45mNone\u001b[0m, \u001b[38;5;34m1\u001b[0m)              │            \u001b[38;5;34m33\u001b[0m │\n",
       "└─────────────────────────────────┴────────────────────────┴───────────────┘\n"
      ]
     },
     "metadata": {},
     "output_type": "display_data"
    },
    {
     "data": {
      "text/html": [
       "<pre style=\"white-space:pre;overflow-x:auto;line-height:normal;font-family:Menlo,'DejaVu Sans Mono',consolas,'Courier New',monospace\"><span style=\"font-weight: bold\"> Total params: </span><span style=\"color: #00af00; text-decoration-color: #00af00\">55,489</span> (216.75 KB)\n",
       "</pre>\n"
      ],
      "text/plain": [
       "\u001b[1m Total params: \u001b[0m\u001b[38;5;34m55,489\u001b[0m (216.75 KB)\n"
      ]
     },
     "metadata": {},
     "output_type": "display_data"
    },
    {
     "data": {
      "text/html": [
       "<pre style=\"white-space:pre;overflow-x:auto;line-height:normal;font-family:Menlo,'DejaVu Sans Mono',consolas,'Courier New',monospace\"><span style=\"font-weight: bold\"> Trainable params: </span><span style=\"color: #00af00; text-decoration-color: #00af00\">55,489</span> (216.75 KB)\n",
       "</pre>\n"
      ],
      "text/plain": [
       "\u001b[1m Trainable params: \u001b[0m\u001b[38;5;34m55,489\u001b[0m (216.75 KB)\n"
      ]
     },
     "metadata": {},
     "output_type": "display_data"
    },
    {
     "data": {
      "text/html": [
       "<pre style=\"white-space:pre;overflow-x:auto;line-height:normal;font-family:Menlo,'DejaVu Sans Mono',consolas,'Courier New',monospace\"><span style=\"font-weight: bold\"> Non-trainable params: </span><span style=\"color: #00af00; text-decoration-color: #00af00\">0</span> (0.00 B)\n",
       "</pre>\n"
      ],
      "text/plain": [
       "\u001b[1m Non-trainable params: \u001b[0m\u001b[38;5;34m0\u001b[0m (0.00 B)\n"
      ]
     },
     "metadata": {},
     "output_type": "display_data"
    }
   ],
   "source": [
    "# Parameters\n",
    "VOCAB_SIZE = len(char_to_index)\n",
    "MAX_LENGTH = X2_train.shape[1]\n",
    "\n",
    "def build_model(vocab_size, max_length):\n",
    "    model = keras.Sequential([\n",
    "        Embedding(input_dim=vocab_size, output_dim=128, input_shape=(max_length,)),  # Embedding layer ensures 3D input\n",
    "        Conv1D(64, kernel_size=3, activation=\"relu\"),\n",
    "        GlobalMaxPooling1D(),\n",
    "        tf.keras.layers.Reshape((-1, 1)),  # Ensure input to GRU is 3D\n",
    "        GRU(64, return_sequences=True),\n",
    "        GRU(32),\n",
    "        Dense(64, activation=\"relu\"),\n",
    "        Dropout(0.2),\n",
    "        Dense(32, activation=\"relu\"),\n",
    "        Dropout(0.2),\n",
    "        Dense(1, activation=\"linear\")  # Regression output\n",
    "    ])\n",
    "    \n",
    "    model.compile(optimizer=\"adam\", loss=\"mse\", metrics=[\"mae\"])\n",
    "    return model\n",
    "\n",
    "# Build the model\n",
    "model = build_model(VOCAB_SIZE, MAX_LENGTH)\n",
    "\n",
    "# Print model summary\n",
    "model.summary()"
   ]
  },
  {
   "cell_type": "code",
   "execution_count": 137,
   "id": "9b184ee4-3f19-4dec-8cd3-7c88e816bc13",
   "metadata": {},
   "outputs": [
    {
     "name": "stdout",
     "output_type": "stream",
     "text": [
      "Epoch 1/50\n",
      "\u001b[1m137/137\u001b[0m \u001b[32m━━━━━━━━━━━━━━━━━━━━\u001b[0m\u001b[37m\u001b[0m \u001b[1m14s\u001b[0m 44ms/step - loss: 0.0648 - mae: 0.1975 - val_loss: 0.0094 - val_mae: 0.0763\n",
      "Epoch 2/50\n",
      "\u001b[1m137/137\u001b[0m \u001b[32m━━━━━━━━━━━━━━━━━━━━\u001b[0m\u001b[37m\u001b[0m \u001b[1m6s\u001b[0m 40ms/step - loss: 0.0147 - mae: 0.0955 - val_loss: 0.0088 - val_mae: 0.0741\n",
      "Epoch 3/50\n",
      "\u001b[1m137/137\u001b[0m \u001b[32m━━━━━━━━━━━━━━━━━━━━\u001b[0m\u001b[37m\u001b[0m \u001b[1m6s\u001b[0m 41ms/step - loss: 0.0125 - mae: 0.0888 - val_loss: 0.0093 - val_mae: 0.0761\n",
      "Epoch 4/50\n",
      "\u001b[1m137/137\u001b[0m \u001b[32m━━━━━━━━━━━━━━━━━━━━\u001b[0m\u001b[37m\u001b[0m \u001b[1m5s\u001b[0m 40ms/step - loss: 0.0103 - mae: 0.0795 - val_loss: 0.0086 - val_mae: 0.0738\n",
      "Epoch 5/50\n",
      "\u001b[1m137/137\u001b[0m \u001b[32m━━━━━━━━━━━━━━━━━━━━\u001b[0m\u001b[37m\u001b[0m \u001b[1m6s\u001b[0m 40ms/step - loss: 0.0097 - mae: 0.0771 - val_loss: 0.0087 - val_mae: 0.0741\n",
      "Epoch 6/50\n",
      "\u001b[1m137/137\u001b[0m \u001b[32m━━━━━━━━━━━━━━━━━━━━\u001b[0m\u001b[37m\u001b[0m \u001b[1m6s\u001b[0m 41ms/step - loss: 0.0092 - mae: 0.0754 - val_loss: 0.0062 - val_mae: 0.0625\n",
      "Epoch 7/50\n",
      "\u001b[1m137/137\u001b[0m \u001b[32m━━━━━━━━━━━━━━━━━━━━\u001b[0m\u001b[37m\u001b[0m \u001b[1m6s\u001b[0m 40ms/step - loss: 0.0076 - mae: 0.0684 - val_loss: 0.0059 - val_mae: 0.0603\n",
      "Epoch 8/50\n",
      "\u001b[1m137/137\u001b[0m \u001b[32m━━━━━━━━━━━━━━━━━━━━\u001b[0m\u001b[37m\u001b[0m \u001b[1m6s\u001b[0m 40ms/step - loss: 0.0070 - mae: 0.0661 - val_loss: 0.0055 - val_mae: 0.0580\n",
      "Epoch 9/50\n",
      "\u001b[1m137/137\u001b[0m \u001b[32m━━━━━━━━━━━━━━━━━━━━\u001b[0m\u001b[37m\u001b[0m \u001b[1m6s\u001b[0m 41ms/step - loss: 0.0065 - mae: 0.0631 - val_loss: 0.0052 - val_mae: 0.0563\n",
      "Epoch 10/50\n",
      "\u001b[1m137/137\u001b[0m \u001b[32m━━━━━━━━━━━━━━━━━━━━\u001b[0m\u001b[37m\u001b[0m \u001b[1m6s\u001b[0m 40ms/step - loss: 0.0067 - mae: 0.0637 - val_loss: 0.0061 - val_mae: 0.0612\n",
      "Epoch 11/50\n",
      "\u001b[1m137/137\u001b[0m \u001b[32m━━━━━━━━━━━━━━━━━━━━\u001b[0m\u001b[37m\u001b[0m \u001b[1m6s\u001b[0m 40ms/step - loss: 0.0059 - mae: 0.0606 - val_loss: 0.0049 - val_mae: 0.0550\n",
      "Epoch 12/50\n",
      "\u001b[1m137/137\u001b[0m \u001b[32m━━━━━━━━━━━━━━━━━━━━\u001b[0m\u001b[37m\u001b[0m \u001b[1m6s\u001b[0m 41ms/step - loss: 0.0059 - mae: 0.0594 - val_loss: 0.0052 - val_mae: 0.0560\n",
      "Epoch 13/50\n",
      "\u001b[1m137/137\u001b[0m \u001b[32m━━━━━━━━━━━━━━━━━━━━\u001b[0m\u001b[37m\u001b[0m \u001b[1m6s\u001b[0m 40ms/step - loss: 0.0056 - mae: 0.0570 - val_loss: 0.0047 - val_mae: 0.0533\n",
      "Epoch 14/50\n",
      "\u001b[1m137/137\u001b[0m \u001b[32m━━━━━━━━━━━━━━━━━━━━\u001b[0m\u001b[37m\u001b[0m \u001b[1m6s\u001b[0m 40ms/step - loss: 0.0057 - mae: 0.0584 - val_loss: 0.0060 - val_mae: 0.0606\n",
      "Epoch 15/50\n",
      "\u001b[1m137/137\u001b[0m \u001b[32m━━━━━━━━━━━━━━━━━━━━\u001b[0m\u001b[37m\u001b[0m \u001b[1m6s\u001b[0m 41ms/step - loss: 0.0052 - mae: 0.0559 - val_loss: 0.0043 - val_mae: 0.0510\n",
      "Epoch 16/50\n",
      "\u001b[1m137/137\u001b[0m \u001b[32m━━━━━━━━━━━━━━━━━━━━\u001b[0m\u001b[37m\u001b[0m \u001b[1m6s\u001b[0m 40ms/step - loss: 0.0047 - mae: 0.0528 - val_loss: 0.0048 - val_mae: 0.0537\n",
      "Epoch 17/50\n",
      "\u001b[1m137/137\u001b[0m \u001b[32m━━━━━━━━━━━━━━━━━━━━\u001b[0m\u001b[37m\u001b[0m \u001b[1m6s\u001b[0m 40ms/step - loss: 0.0048 - mae: 0.0540 - val_loss: 0.0044 - val_mae: 0.0517\n",
      "Epoch 18/50\n",
      "\u001b[1m137/137\u001b[0m \u001b[32m━━━━━━━━━━━━━━━━━━━━\u001b[0m\u001b[37m\u001b[0m \u001b[1m6s\u001b[0m 41ms/step - loss: 0.0048 - mae: 0.0527 - val_loss: 0.0044 - val_mae: 0.0512\n",
      "Epoch 19/50\n",
      "\u001b[1m137/137\u001b[0m \u001b[32m━━━━━━━━━━━━━━━━━━━━\u001b[0m\u001b[37m\u001b[0m \u001b[1m6s\u001b[0m 40ms/step - loss: 0.0044 - mae: 0.0511 - val_loss: 0.0050 - val_mae: 0.0550\n",
      "Epoch 20/50\n",
      "\u001b[1m137/137\u001b[0m \u001b[32m━━━━━━━━━━━━━━━━━━━━\u001b[0m\u001b[37m\u001b[0m \u001b[1m6s\u001b[0m 41ms/step - loss: 0.0045 - mae: 0.0523 - val_loss: 0.0045 - val_mae: 0.0523\n"
     ]
    }
   ],
   "source": [
    "from tensorflow.keras.callbacks import EarlyStopping\n",
    "\n",
    "# Use EarlyStopping to prevent overfitting\n",
    "early_stop = EarlyStopping(monitor='val_loss', patience=5, restore_best_weights=True)\n",
    "\n",
    "# Train the model\n",
    "history2 = model.fit(\n",
    "    X2_train, y2_train_scaled,\n",
    "    validation_data=(X2_test, y2_test_scaled),\n",
    "    batch_size=32,\n",
    "    epochs=50,\n",
    "    verbose=1,\n",
    "    callbacks=[early_stop])\n",
    "\n",
    "model.save('modelo_smilesLipo.keras')"
   ]
  },
  {
   "cell_type": "code",
   "execution_count": 139,
   "id": "06969296-0b9b-4c36-9b6c-434fbb5f8fb6",
   "metadata": {},
   "outputs": [
    {
     "name": "stdout",
     "output_type": "stream",
     "text": [
      "\u001b[1m35/35\u001b[0m \u001b[32m━━━━━━━━━━━━━━━━━━━━\u001b[0m\u001b[37m\u001b[0m \u001b[1m0s\u001b[0m 11ms/step - loss: 0.0042 - mae: 0.0505\n",
      "Mean Absolute Error: 0.0510\n"
     ]
    }
   ],
   "source": [
    "loss, mae = model.evaluate(X2_test, y2_test_scaled)\n",
    "print(f'Mean Absolute Error: {mae:.4f}')"
   ]
  },
  {
   "cell_type": "code",
   "execution_count": 141,
   "id": "cfe8a0b2-e43d-4c41-be9a-6c094301c667",
   "metadata": {},
   "outputs": [
    {
     "name": "stdout",
     "output_type": "stream",
     "text": [
      "\u001b[1m35/35\u001b[0m \u001b[32m━━━━━━━━━━━━━━━━━━━━\u001b[0m\u001b[37m\u001b[0m \u001b[1m1s\u001b[0m 20ms/step\n",
      "Real: 4.2200 | Predicted: 3.5953\n",
      "Real: 4.3100 | Predicted: 3.2888\n",
      "Real: 4.5700 | Predicted: 4.4909\n",
      "Real: 3.6000 | Predicted: 3.2985\n",
      "Real: 0.9700 | Predicted: 1.2171\n",
      "Real: 2.3500 | Predicted: 3.5138\n",
      "Real: 3.1700 | Predicted: 2.8801\n",
      "Real: 4.6200 | Predicted: 4.9001\n",
      "Real: 2.5200 | Predicted: 3.5058\n",
      "Real: 0.4500 | Predicted: 0.1572\n"
     ]
    }
   ],
   "source": [
    "# Predicting on the full test set\n",
    "predictions2 = model.predict(X2_test)\n",
    "\n",
    "# Denormalize predictions (convert them to the original scale)\n",
    "predictions2_original = scaler.inverse_transform(predictions2)\n",
    "\n",
    "# Denormalize the real labels (y_test) so they are on the same scale\n",
    "y2_test_original = scaler.inverse_transform(y2_test_scaled)\n",
    "\n",
    "# Show some examples comparing the predictions with the real values\n",
    "import numpy as np\n",
    "for i in range(10): # Show only 10 examples\n",
    "    print(f\"Real: {y2_test_original[i][0]:.4f} | Predicted: {predictions2_original[i][0]:.4f}\")"
   ]
  },
  {
   "cell_type": "code",
   "execution_count": 143,
   "id": "b55e0ddd-e257-4c1a-b130-d6498cede578",
   "metadata": {},
   "outputs": [
    {
     "data": {
      "image/png": "[encoded data removed]",
      "text/plain": [
       "<Figure size 640x480 with 1 Axes>"
      ]
     },
     "metadata": {},
     "output_type": "display_data"
    }
   ],
   "source": [
    "import matplotlib.pyplot as plt\n",
    "\n",
    "plt.scatter(y2_test_original, predictions2_original)\n",
    "plt.plot([min(y2_test_original), max(y2_test_original)], [min(y2_test_original), max(y2_test_original)], 'r--')  # Línea ideal\n",
    "plt.xlabel('Real')\n",
    "plt.ylabel('Predicted')\n",
    "plt.title('Real vs Predicted')\n",
    "plt.show()"
   ]
  },
  {
   "cell_type": "code",
   "execution_count": 165,
   "id": "1e579204-0589-4d51-97f4-65c599f9224b",
   "metadata": {},
   "outputs": [
    {
     "data": {
      "image/png": "[encoded data removed]",
      "text/plain": [
       "<Figure size 600x500 with 1 Axes>"
      ]
     },
     "metadata": {},
     "output_type": "display_data"
    }
   ],
   "source": [
    "import matplotlib.pyplot as plt\n",
    "\n",
    "# Extract loss values\n",
    "train_loss = history2.history['loss']\n",
    "val_loss = history2.history['val_loss']\n",
    "epochs = range(1, len(train_loss) + 1)\n",
    "\n",
    "# Create the plot\n",
    "plt.figure(figsize=(6, 5))\n",
    "\n",
    "plt.plot(epochs, train_loss, label='Train')\n",
    "plt.plot(epochs, val_loss, label='Validation')\n",
    "\n",
    "plt.xlabel('Epoch')\n",
    "plt.ylabel('Loss')\n",
    "plt.title('fold-2')\n",
    "plt.legend()\n",
    "plt.grid(False)\n",
    "plt.tight_layout()\n",
    "\n",
    "# Show the plot\n",
    "plt.show()\n",
    "\n",
    "# Optional: Save the figure\n",
    "# plt.savefig('training_loss_fold2.png', dpi=300)\n"
   ]
  },
  {
   "cell_type": "code",
   "execution_count": 161,
   "id": "6fd5aff8-f0bb-451a-8246-c8d3e9c37eaf",
   "metadata": {},
   "outputs": [
    {
     "data": {
      "image/png": "[encoded data removed]",
      "text/plain": [
       "<Figure size 600x600 with 1 Axes>"
      ]
     },
     "metadata": {},
     "output_type": "display_data"
    }
   ],
   "source": [
    "# Create the plot\n",
    "plt.figure(figsize=(6, 6))\n",
    "\n",
    "\n",
    "# Plot Test\n",
    "plt.scatter(y2_test_original, predictions2_original, label='Test', alpha=0.7)\n",
    "\n",
    "# Línea y = x\n",
    "min_val = min(np.min(y2_test_original), np.min(predictions2_original))\n",
    "max_val = max(np.max(y2_test_original), np.max(predictions2_original))\n",
    "plt.plot([min_val, max_val], [min_val, max_val], 'k--',label='Target', alpha=0.8)\n",
    "\n",
    "# Línea de regresión ajustada\n",
    "sns.regplot(x=y2_test_original, y=predictions2_original, scatter=False, )\n",
    "\n",
    "plt.xlabel('Target Value')\n",
    "plt.ylabel('Predicted Value')\n",
    "plt.title('Scatter diagram for Lipophilicity prediction')\n",
    "plt.legend()\n",
    "plt.grid(False)\n",
    "plt.tight_layout()\n",
    "\n",
    "plt.show()\n"
   ]
  },
  {
   "cell_type": "markdown",
   "id": "16d6576c-3140-42c5-9e76-f1eb24b55ebb",
   "metadata": {},
   "source": [
    "## Conclusion\n",
    "In this work, a deep learning model was developed for molecular property prediction using SMILES-based representations. The proposed architecture combined an embedding layer with convolutional and recurrent layers, specifically Conv1D and GRU, to capture local and sequential patterns within molecular structures.\n",
    "The results highlighted that there is no evidence that the inclusion of convolutional layers significantly improves performance compared to the simpler GRU-based model, suggesting that the sequential dependencies encoded in SMILES strings could be effectively captured solely by recurrent architectures. Furthermore, the analysis revealed that model accuracy decreased for molecules with high polar area values, which was attributed to the imbalance in the dataset."
   ]
  },
  {
   "cell_type": "code",
   "execution_count": null,
   "id": "2f8d9cb9-8161-4381-97b9-223989eb70dc",
   "metadata": {},
   "outputs": [],
   "source": []
  },
  {
   "cell_type": "code",
   "execution_count": null,
   "id": "ee82304e-7dd5-4d2f-b5a2-f29b1bfb3b80",
   "metadata": {},
   "outputs": [],
   "source": []
  }
 ],
 "metadata": {
  "kernelspec": {
   "display_name": "Python [conda env:base] *",
   "language": "python",
   "name": "conda-base-py"
  },
  "language_info": {
   "codemirror_mode": {
    "name": "ipython",
    "version": 3
   },
   "file_extension": ".py",
   "mimetype": "text/x-python",
   "name": "python",
   "nbconvert_exporter": "python",
   "pygments_lexer": "ipython3",
   "version": "3.12.7"
  }
 },
 "nbformat": 4,
 "nbformat_minor": 5
}
