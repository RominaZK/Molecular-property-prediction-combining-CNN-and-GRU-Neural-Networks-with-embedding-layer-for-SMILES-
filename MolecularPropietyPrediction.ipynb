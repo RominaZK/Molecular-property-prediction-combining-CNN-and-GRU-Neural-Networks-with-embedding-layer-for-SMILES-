{
 "cells": [
  {
   "cell_type": "markdown",
   "id": "c7c51b87-b532-42bd-9124-179158ed7a1f",
   "metadata": {},
   "source": [
    "## Import packages"
   ]
  },
  {
   "cell_type": "code",
   "execution_count": 17,
   "id": "2d47a550-3618-40f1-9fca-5e16cae6cae8",
   "metadata": {},
   "outputs": [],
   "source": [
    "import gdown\n",
    "import pandas as pd\n",
    "import numpy as np\n",
    "import seaborn as sns"
   ]
  },
  {
   "cell_type": "markdown",
   "id": "1537d62d-0eb8-4111-9798-0169d5dff5a3",
   "metadata": {},
   "source": [
    "## Load dataset"
   ]
  },
  {
   "cell_type": "code",
   "execution_count": 15,
   "id": "8f6d8908-a117-4692-a712-a47fe1205934",
   "metadata": {},
   "outputs": [
    {
     "name": "stderr",
     "output_type": "stream",
     "text": [
      "Downloading...\n",
      "From (original): https://drive.google.com/uc?id=109Vs52lEMNEJEJtzvHGY0nTzsoeCi1zs\n",
      "From (redirected): https://drive.google.com/uc?id=109Vs52lEMNEJEJtzvHGY0nTzsoeCi1zs&confirm=t&uuid=4c72dff0-a638-4f71-958b-42b7695dc8fe\n",
      "To: C:\\Users\\romin\\CCTcollege\\Advanced data\\ca1\\msc-da-integrated-ca1-sem2-RKeuchkerian\\dataset.csv\n",
      "100%|██████████| 166M/166M [00:57<00:00, 2.89MB/s] \n"
     ]
    },
    {
     "data": {
      "text/plain": [
       "'dataset.csv'"
      ]
     },
     "execution_count": 15,
     "metadata": {},
     "output_type": "execute_result"
    }
   ],
   "source": [
    "import gdown\n",
    "file_id = \"109Vs52lEMNEJEJtzvHGY0nTzsoeCi1zs\"\n",
    "url = f\"https://drive.google.com/uc?id={file_id}\"\n",
    "output = \"dataset.csv\"\n",
    "gdown.download(url, output, quiet=False)"
   ]
  },
  {
   "cell_type": "code",
   "execution_count": null,
   "id": "8f9d642c-dd20-4dd5-bb69-d221eace9c3b",
   "metadata": {},
   "outputs": [],
   "source": [
    "#sns.pairplot(df)"
   ]
  },
  {
   "cell_type": "code",
   "execution_count": null,
   "id": "b0c2396d-0fa1-436e-8c73-1851994c6f9a",
   "metadata": {},
   "outputs": [],
   "source": [
    "df.describe"
   ]
  },
  {
   "cell_type": "code",
   "execution_count": 24,
   "id": "63bcac03-b96e-4198-b2de-aab6ffcc5589",
   "metadata": {},
   "outputs": [
    {
     "data": {
      "text/html": [
       "<div>\n",
       "<style scoped>\n",
       "    .dataframe tbody tr th:only-of-type {\n",
       "        vertical-align: middle;\n",
       "    }\n",
       "\n",
       "    .dataframe tbody tr th {\n",
       "        vertical-align: top;\n",
       "    }\n",
       "\n",
       "    .dataframe thead th {\n",
       "        text-align: right;\n",
       "    }\n",
       "</style>\n",
       "<table border=\"1\" class=\"dataframe\">\n",
       "  <thead>\n",
       "    <tr style=\"text-align: right;\">\n",
       "      <th></th>\n",
       "      <th>smiles</th>\n",
       "      <th>polararea</th>\n",
       "    </tr>\n",
       "  </thead>\n",
       "  <tbody>\n",
       "    <tr>\n",
       "      <th>0</th>\n",
       "      <td>CN1CCC[C@H]1C2=CN=CC=C2</td>\n",
       "      <td>16.1</td>\n",
       "    </tr>\n",
       "    <tr>\n",
       "      <th>1</th>\n",
       "      <td>CC1(C(C1C(=O)OCC2=CC(=CC=C2)OC3=CC=CC=C3)C=C(C...</td>\n",
       "      <td>35.5</td>\n",
       "    </tr>\n",
       "    <tr>\n",
       "      <th>2</th>\n",
       "      <td>C[C@]12CC[C@](C[C@H]1C3=CC(=O)[C@@H]4[C@]5(CC[...</td>\n",
       "      <td>267.0</td>\n",
       "    </tr>\n",
       "    <tr>\n",
       "      <th>3</th>\n",
       "      <td>CN1C=NC2=C1C(=O)N(C(=O)N2C)C</td>\n",
       "      <td>58.4</td>\n",
       "    </tr>\n",
       "    <tr>\n",
       "      <th>4</th>\n",
       "      <td>C1=CC=C(C(=C1)C(=O)O)O</td>\n",
       "      <td>57.5</td>\n",
       "    </tr>\n",
       "  </tbody>\n",
       "</table>\n",
       "</div>"
      ],
      "text/plain": [
       "                                              smiles  polararea\n",
       "0                            CN1CCC[C@H]1C2=CN=CC=C2       16.1\n",
       "1  CC1(C(C1C(=O)OCC2=CC(=CC=C2)OC3=CC=CC=C3)C=C(C...       35.5\n",
       "2  C[C@]12CC[C@](C[C@H]1C3=CC(=O)[C@@H]4[C@]5(CC[...      267.0\n",
       "3                       CN1C=NC2=C1C(=O)N(C(=O)N2C)C       58.4\n",
       "4                             C1=CC=C(C(=C1)C(=O)O)O       57.5"
      ]
     },
     "execution_count": 24,
     "metadata": {},
     "output_type": "execute_result"
    }
   ],
   "source": [
    "df_polararea = df[[\"smiles\", \"polararea\"]].dropna()  # Keep only SMILES & PSA columns\n",
    "df_polararea.head()"
   ]
  },
  {
   "cell_type": "code",
   "execution_count": 26,
   "id": "847d4bca-00b3-4717-bc09-32e6be99b051",
   "metadata": {},
   "outputs": [
    {
     "name": "stdout",
     "output_type": "stream",
     "text": [
      "smiles       0\n",
      "polararea    0\n",
      "dtype: int64\n"
     ]
    }
   ],
   "source": [
    "print(df_polararea.isnull().sum())"
   ]
  },
  {
   "cell_type": "code",
   "execution_count": 28,
   "id": "0aafade2-623e-422f-9b32-fac2131c228a",
   "metadata": {},
   "outputs": [
    {
     "data": {
      "text/plain": [
       "(151966, 2)"
      ]
     },
     "execution_count": 28,
     "metadata": {},
     "output_type": "execute_result"
    }
   ],
   "source": [
    "df_polararea.shape"
   ]
  },
  {
   "cell_type": "code",
   "execution_count": 30,
   "id": "bfdd9c3d-6ba4-491c-8631-24503bad655c",
   "metadata": {},
   "outputs": [
    {
     "data": {
      "text/plain": [
       "<seaborn.axisgrid.PairGrid at 0x26911fc8320>"
      ]
     },
     "execution_count": 30,
     "metadata": {},
     "output_type": "execute_result"
    },
    {
     "data": {
      "image/png": "[encoded data removed]",
      "text/plain": [
       "<Figure size 250x250 with 2 Axes>"
      ]
     },
     "metadata": {},
     "output_type": "display_data"
    }
   ],
   "source": [
    "sns.pairplot(df_polararea)"
   ]
  },
  {
   "cell_type": "code",
   "execution_count": null,
   "id": "03ba8482-7818-4771-8fa4-6db0c6f98629",
   "metadata": {},
   "outputs": [],
   "source": []
  },
  {
   "cell_type": "code",
   "execution_count": null,
   "id": "c073851b-0f5a-4af5-8232-7424f688f336",
   "metadata": {},
   "outputs": [],
   "source": []
  },
  {
   "cell_type": "code",
   "execution_count": null,
   "id": "f5c31d3f-1497-40e7-a970-a27275e94300",
   "metadata": {},
   "outputs": [],
   "source": []
  },
  {
   "cell_type": "code",
   "execution_count": null,
   "id": "45c42469-d3a8-4d7c-a28c-46216c358645",
   "metadata": {},
   "outputs": [],
   "source": []
  },
  {
   "cell_type": "code",
   "execution_count": null,
   "id": "fd5cf680-f94a-40a4-9353-fbd693702f7b",
   "metadata": {},
   "outputs": [],
   "source": []
  }
 ],
 "metadata": {
  "kernelspec": {
   "display_name": "Python [conda env:base] *",
   "language": "python",
   "name": "conda-base-py"
  },
  "language_info": {
   "codemirror_mode": {
    "name": "ipython",
    "version": 3
   },
   "file_extension": ".py",
   "mimetype": "text/x-python",
   "name": "python",
   "nbconvert_exporter": "python",
   "pygments_lexer": "ipython3",
   "version": "3.12.7"
  }
 },
 "nbformat": 4,
 "nbformat_minor": 5
}
